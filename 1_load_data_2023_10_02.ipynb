{
 "cells": [
  {
   "cell_type": "markdown",
   "id": "de97d89b-1e52-46ad-b4ef-eddc4fbfb2c9",
   "metadata": {},
   "source": [
    "# Creating a data table from Arivale for prediction"
   ]
  },
  {
   "cell_type": "code",
   "execution_count": 1,
   "id": "ced5e74f-41d0-48c6-985f-2d4eef222bbd",
   "metadata": {},
   "outputs": [
    {
     "name": "stdout",
     "output_type": "stream",
     "text": [
      "bp.csv\t\t       mets_t2d.csv\t       prots_t2d_full.csv\n",
      "chems_all.csv\t       mets_t2d_full.csv       saliva.csv\n",
      "chems_subset.csv       mets_t2d_pvals.csv      selected_patient_table.csv\n",
      "clients.csv\t       not_t2d_client_ids.csv  snps.csv\n",
      "meds.csv\t       not_t2d_samples.csv     t2d_client_ids.csv\n",
      "mets_imputed.csv       prots_not_t2d.csv       t2d_samples.csv\n",
      "mets_not_t2d.csv       prots_not_t2d_full.csv  weight.csv\n",
      "mets_not_t2d_full.csv  prots_subset.csv\n",
      "mets_subset.csv        prots_t2d.csv\n"
     ]
    }
   ],
   "source": [
    "!ls ../copied_csvs"
   ]
  },
  {
   "cell_type": "markdown",
   "id": "41f4483d-491d-4942-828f-c2811a4e33cf",
   "metadata": {},
   "source": [
    "## 1. Load data, preprocessing"
   ]
  },
  {
   "cell_type": "code",
   "execution_count": 2,
   "id": "66a05400-e206-4c07-91cc-e80c6fc2a4fd",
   "metadata": {},
   "outputs": [],
   "source": [
    "import numpy as np\n",
    "import pandas as pd"
   ]
  },
  {
   "cell_type": "code",
   "execution_count": 3,
   "id": "3a8e2c0b-646a-476b-91bf-b116b4de5218",
   "metadata": {},
   "outputs": [],
   "source": [
    "chems = pd.read_csv('../copied_csvs/chems_all.csv', index_col=0, dtype={'public_client_id': np.str_})\n",
    "clients = pd.read_csv('../copied_csvs/clients.csv', index_col=0, dtype={'public_client_id': np.str_})\n",
    "bp = pd.read_csv('../copied_csvs/bp.csv', index_col=0, dtype={'public_client_id': np.str_})\n",
    "weight = pd.read_csv('../copied_csvs/weight.csv', index_col=0, dtype={'public_client_id': np.str_})\n",
    "meds = pd.read_csv('../copied_csvs/meds.csv', index_col=0, dtype={'public_client_id': np.str_})"
   ]
  },
  {
   "cell_type": "code",
   "execution_count": 4,
   "id": "48ebe612-c26c-42f7-96a3-43d13b5bdf15",
   "metadata": {},
   "outputs": [],
   "source": [
    "prots_t2d = pd.read_csv('../copied_csvs/prots_t2d.csv', index_col=0,\n",
    "                       dtype={'public_client_id':np.str_})\n",
    "prots_not_t2d = pd.read_csv('../copied_csvs/prots_not_t2d.csv', index_col=0,\n",
    "                            dtype={'public_client_id':np.str_})\n",
    "prots_all = pd.concat([prots_t2d, prots_not_t2d])\n",
    "# we want to keep at least one is_t2d column."
   ]
  },
  {
   "cell_type": "code",
   "execution_count": 5,
   "id": "283136af-c9e6-46b7-a506-d7dcbb030768",
   "metadata": {},
   "outputs": [],
   "source": [
    "mets_t2d = pd.read_csv('../copied_csvs/mets_t2d.csv', index_col=0,\n",
    "                       dtype={'public_client_id':np.str_})\n",
    "mets_not_t2d = pd.read_csv('../copied_csvs/mets_not_t2d.csv', index_col=0,\n",
    "                            dtype={'public_client_id':np.str_})\n",
    "mets_all = pd.concat([mets_t2d, mets_not_t2d])\n",
    "if 'is_t2d' in mets_all.columns:\n",
    "    del mets_all['is_t2d']"
   ]
  },
  {
   "cell_type": "code",
   "execution_count": 6,
   "id": "6fe36805-2d01-4581-87fa-d8a3c1e4b8de",
   "metadata": {},
   "outputs": [
    {
     "name": "stderr",
     "output_type": "stream",
     "text": [
      "/tmp/ipykernel_902511/1413789103.py:3: DtypeWarning: Columns (271,2116,2118,2119,2120,2122,2124,2130,2131,2133,2134,2143,2144,2147,2148,2150,2154,2155,2156,2161,2166,2167,2168,2169,2170,2173,2174,2176,2179,2180,2182,2183,2185,2187,2198,2199,2203,2204,2205,2206,2207,2211,2213,2217,2219,2220,2221,2222,2223,2224,2225,2337,2338,2341,2342,2343,2346,2347,2349,2350,2351,2353,2354,2355,2356,2357,2358,2361,2362,2364,2368,2370,2371,2374,2375,2376,2379,2380,2381,2382,2385,2386,2387,2390,2391,2392,2393,2396,2397,2398,2401,2402,2403,2404,2413,2414,2415,2418,2419,2420,2423,2424,2425,2426,2429,2430,2431,2434,2435,2440,2459,2468,2469,2471,2474,2496,2515,2524,2525,2527,2530,2664,2683,2692,2693,2695,2698,2720,2739,2748,2749,2751,2754,2776,2795,2804,2805,2807,2810,2940,2941,2942,2943,2944,2945,2946,2947,2948,2949,2950,2951,2952,2953,2954,2955,2956,2957,2958,2959,2960,2961,2962,2963,2964,2965,2966,2967,2968,2969,2970,2971,2972,2973,2974,2975,2976,2977,2978,2979,2980,2981,2982,2983,2984,2985,2986,2987,2988,2989,2990,2991,2992,2993,2994,2995,3000,3019,3028,3029,3031,3034,3187,3198,3209,3220,3231,3253,3264,3275,3286,3300,3301,3303,3304,3306,3327,3345,3348,3351,3356,3358,3384,3415,3416,3417,3418,3419,3420,3421,3472,3473,3474,3483,3484,3485,3486,3487,3488,3489,3490) have mixed types. Specify dtype option on import or set low_memory=False.\n",
      "  samples_t2d = pd.read_csv('../copied_csvs/not_t2d_samples.csv', index_col=0,\n"
     ]
    }
   ],
   "source": [
    "samples_t2d = pd.read_csv('../copied_csvs/t2d_samples.csv', index_col=0,\n",
    "                       dtype={'public_client_id':np.str_})\n",
    "samples_t2d = pd.read_csv('../copied_csvs/not_t2d_samples.csv', index_col=0,\n",
    "                            dtype={'public_client_id':np.str_})\n",
    "samples_all = pd.concat([samples_t2d, samples_t2d])"
   ]
  },
  {
   "cell_type": "markdown",
   "id": "aaac042c-e696-4f9c-a232-7083f10c77c8",
   "metadata": {},
   "source": [
    "### Analysis of questionnaires and medications"
   ]
  },
  {
   "cell_type": "code",
   "execution_count": 7,
   "id": "de47fb1c-4308-412b-ac7d-1844e658ef87",
   "metadata": {},
   "outputs": [
    {
     "name": "stderr",
     "output_type": "stream",
     "text": [
      "/tmp/ipykernel_902511/2778634749.py:3: PerformanceWarning: DataFrame is highly fragmented.  This is usually the result of calling `frame.insert` many times, which has poor performance.  Consider joining all columns at once using pd.concat(axis=1) instead. To get a de-fragmented frame, use `newframe = frame.copy()`\n",
      "  samples_all['is_t2d'] = samples_all[diabetes_type2_current]\n"
     ]
    }
   ],
   "source": [
    "diabetes_type2_current = 'assessment:health-history:cardiometabolic_type2_diabetes:self_current'\n",
    "samples_all[diabetes_type2_current]\n",
    "samples_all['is_t2d'] = samples_all[diabetes_type2_current]"
   ]
  },
  {
   "cell_type": "code",
   "execution_count": 8,
   "id": "9030e801-63e5-4b67-a78b-12d6b097dbcd",
   "metadata": {},
   "outputs": [
    {
     "name": "stderr",
     "output_type": "stream",
     "text": [
      "/tmp/ipykernel_902511/661117527.py:1: PerformanceWarning: DataFrame is highly fragmented.  This is usually the result of calling `frame.insert` many times, which has poor performance.  Consider joining all columns at once using pd.concat(axis=1) instead. To get a de-fragmented frame, use `newframe = frame.copy()`\n",
      "  samples_all['is_t1d'] = samples_all['assessment:health-history:autoimmune_type1_diabetes:self_current']\n"
     ]
    }
   ],
   "source": [
    "samples_all['is_t1d'] = samples_all['assessment:health-history:autoimmune_type1_diabetes:self_current']"
   ]
  },
  {
   "cell_type": "code",
   "execution_count": 9,
   "id": "5ba6653c-10c3-44c4-9991-73e048c6d778",
   "metadata": {},
   "outputs": [
    {
     "data": {
      "text/plain": [
       "0        False\n",
       "1          NaN\n",
       "2        False\n",
       "3          NaN\n",
       "4        False\n",
       "         ...  \n",
       "11880    False\n",
       "11881      NaN\n",
       "11882    False\n",
       "11883    False\n",
       "11884    False\n",
       "Name: assessment:health-history:bladder_kidney_kidney_disease:self_current, Length: 23344, dtype: object"
      ]
     },
     "execution_count": 9,
     "metadata": {},
     "output_type": "execute_result"
    }
   ],
   "source": [
    "samples_all['assessment:health-history:cancer_basal_cell_carcinoma:self_current']\n",
    "samples_all['assessment:health-history:cardiometabolic_metabolic_syndrome:self_current']\n",
    "samples_all['assessment:health-history:cardiovascular_hypertension:self_current']\n",
    "samples_all['assessment:health-history:bladder_kidney_kidney_disease:self_current']"
   ]
  },
  {
   "cell_type": "code",
   "execution_count": 10,
   "id": "99145c7d-33e3-4461-87fc-32554242270a",
   "metadata": {},
   "outputs": [
    {
     "data": {
      "text/plain": [
       "Index(['assessment:digestion:medications:enum',\n",
       "       'assessment:health-history:over_the_counter_medication_use:int',\n",
       "       'assessment:health-history:prescription_medication_use_yes_no:int',\n",
       "       'assessment:journey:daily_medical_support:int',\n",
       "       'assessments:journey:medical_treatment',\n",
       "       'assessment_health_history_prescription_medication_use_yes_no_int',\n",
       "       'assessment_health_history_over_the_counter_medication_use_int',\n",
       "       'meds_cholesterol', 'meds_blood_sugar', 'meds_blood_pressure',\n",
       "       'meds_antibiotics_last_3_months'],\n",
       "      dtype='object')"
      ]
     },
     "execution_count": 10,
     "metadata": {},
     "output_type": "execute_result"
    }
   ],
   "source": [
    "samples_all.columns[['med' in x for x in samples_all.columns]]"
   ]
  },
  {
   "cell_type": "code",
   "execution_count": 11,
   "id": "0227acbf-7f32-4b03-b88d-6d1539d8685f",
   "metadata": {},
   "outputs": [
    {
     "data": {
      "text/plain": [
       "array(['No', nan, 'Yes'], dtype=object)"
      ]
     },
     "execution_count": 11,
     "metadata": {},
     "output_type": "execute_result"
    }
   ],
   "source": [
    "samples_all['meds_blood_sugar'].unique()"
   ]
  },
  {
   "cell_type": "code",
   "execution_count": 12,
   "id": "90989f4a-58a8-4d30-9855-dcde3dd41d00",
   "metadata": {},
   "outputs": [
    {
     "data": {
      "text/plain": [
       "array(['Yes', nan, 'No'], dtype=object)"
      ]
     },
     "execution_count": 12,
     "metadata": {},
     "output_type": "execute_result"
    }
   ],
   "source": [
    "samples_all['meds_blood_pressure'].unique()"
   ]
  },
  {
   "cell_type": "code",
   "execution_count": 13,
   "id": "f4067b08-11e3-4527-9370-2fc169384026",
   "metadata": {},
   "outputs": [],
   "source": [
    "# TODO: identify clients that are on diabetes medication\n",
    "# unfortunately, the data does not seem to show medication start times.\n",
    "# diabetes drugs:\n",
    "# - insulin\n",
    "# - metformin\n",
    "# - pioglitazone (thiazolidinediones )\n",
    "# - dulaglutide, liraglutide, exenatide  (GLP-1 agonists)\n",
    "# - canagliflozin (SGLT2 inhibitors)\n",
    "# - glyburide, glipizide (Sulfonylureas)\n",
    "# - pioglitazone"
   ]
  },
  {
   "cell_type": "markdown",
   "id": "9ecd4e9b-15a0-472e-b34f-85a6e85de4e4",
   "metadata": {},
   "source": [
    "### Removing duplicates"
   ]
  },
  {
   "cell_type": "code",
   "execution_count": 14,
   "id": "b7a539aa-1b5f-4097-9404-fd9656635c5d",
   "metadata": {},
   "outputs": [
    {
     "name": "stdout",
     "output_type": "stream",
     "text": [
      "(11167, 140)\n"
     ]
    }
   ],
   "source": [
    "chems = chems.sort_values(['public_client_id', 'days_in_program'])\n",
    "print(chems.shape)"
   ]
  },
  {
   "cell_type": "code",
   "execution_count": 15,
   "id": "803be9bd-a1c2-4130-9629-b09956addb4d",
   "metadata": {},
   "outputs": [],
   "source": [
    "bp.index = pd.MultiIndex.from_frame(bp[['public_client_id', 'days_in_program']])\n",
    "bp = bp[~bp.index.duplicated(keep='first')]\n",
    "\n",
    "chems.index = pd.MultiIndex.from_frame(chems[['public_client_id', 'days_in_program']])\n",
    "chems = chems[~chems.index.duplicated(keep='first')]\n",
    "\n",
    "weight.index = pd.MultiIndex.from_frame(weight[['public_client_id', 'days_in_program']])\n",
    "weight = weight[~weight.index.duplicated(keep='first')]\n",
    "\n",
    "prots_all.index = pd.MultiIndex.from_frame(prots_all[['public_client_id', 'days_in_program']])\n",
    "prots_all = prots_all[~prots_all.index.duplicated(keep='first')]\n",
    "\n",
    "mets_all.index = pd.MultiIndex.from_frame(mets_all[['public_client_id', 'days_in_program']])\n",
    "mets_all = mets_all[~mets_all.index.duplicated(keep='first')]"
   ]
  },
  {
   "cell_type": "code",
   "execution_count": 16,
   "id": "2ad0e9c1-01ef-49a0-a20c-c37fd8a36740",
   "metadata": {},
   "outputs": [],
   "source": [
    "samples_all.index = pd.MultiIndex.from_frame(samples_all[['public_client_id', 'days_in_program']])\n",
    "samples_all = samples_all[~samples_all.index.duplicated(keep='first')]"
   ]
  },
  {
   "cell_type": "code",
   "execution_count": 17,
   "id": "240dfa2d-4f65-4dff-9c88-5d1f139e1d14",
   "metadata": {},
   "outputs": [
    {
     "name": "stdout",
     "output_type": "stream",
     "text": [
      "(11167, 140)\n"
     ]
    }
   ],
   "source": [
    "print(chems.shape)"
   ]
  },
  {
   "cell_type": "markdown",
   "id": "a65b34e9-04b5-4a53-a4f1-f364a83ff673",
   "metadata": {},
   "source": [
    "### Generating a prev/next field for chems"
   ]
  },
  {
   "cell_type": "code",
   "execution_count": 18,
   "id": "3d1fcef0-bc31-48e6-b934-d51da4c7a720",
   "metadata": {},
   "outputs": [],
   "source": [
    "chems['days_since_previous'] = [0]*len(chems)\n",
    "chems['days_til_next'] = [0]*len(chems)\n",
    "\n",
    "chems_selected = ['HbA1C', 'GFR', 'GLUCOSE', 'INSULIN', 'HOMA-IR']\n",
    "chems_to_column = {\n",
    "    'HbA1C': 'GLYCOHEMOGLOBIN A1C',\n",
    "    'GFR': 'GFR, MDRD',\n",
    "    'GLUCOSE': 'GLUCOSE',\n",
    "    'INSULIN': 'INSULIN',\n",
    "    'HOMA-IR': 'HOMA-IR'\n",
    "}\n",
    "\n",
    "for c in chems_selected:\n",
    "    chems['d_'+c] = [0]*len(chems)\n",
    "    chems['prev_'+c] = [0]*len(chems)\n",
    "    chems['next_'+c] = [0]*len(chems)"
   ]
  },
  {
   "cell_type": "code",
   "execution_count": 19,
   "id": "727fbdd1-9947-4496-b650-6b64e14445ce",
   "metadata": {},
   "outputs": [],
   "source": [
    "current_id = None\n",
    "prev_time = 0\n",
    "prev_chems = {c: 0 for c in chems_selected}\n",
    "prev_glucose = 0\n",
    "prev_hba1c = 0\n",
    "prev_gfr = 0\n",
    "for i, (index, row) in enumerate(chems.iterrows()):\n",
    "    if row.public_client_id != current_id:\n",
    "        current_id = row.public_client_id\n",
    "    else:\n",
    "        chems.loc[index, 'days_since_previous'] = row.days_in_program - prev_time\n",
    "        for c in chems_selected:\n",
    "            chems.loc[index, 'prev_' + c] = prev_chems[c]\n",
    "    prev_time = row.days_in_program\n",
    "    for c in chems_selected:\n",
    "        prev_chems[c] = row[chems_to_column[c]]\n",
    "    if i < len(chems) - 1:\n",
    "        next_row = chems.iloc[i+1]\n",
    "        if next_row.public_client_id == current_id:\n",
    "            chems.loc[index, 'days_til_next'] = next_row.days_in_program - prev_time\n",
    "            for c in chems_selected:\n",
    "                chems.loc[index, 'next_' + c] = next_row[chems_to_column[c]]\n",
    "                chems.loc[index, 'd_' + c] = next_row[chems_to_column[c]] - row[chems_to_column[c]]"
   ]
  },
  {
   "cell_type": "markdown",
   "id": "03553112-ef64-4496-a495-add369786448",
   "metadata": {},
   "source": [
    "#### Generating longer-term differences (1 year, 2 years, etc)"
   ]
  },
  {
   "cell_type": "code",
   "execution_count": 20,
   "id": "daac01b5-3dd0-44d7-b413-2ac1809fed87",
   "metadata": {},
   "outputs": [],
   "source": [
    "chems['days_til_next_1y'] = [0]*len(chems)\n",
    "chems['days_til_next_2y'] = [0]*len(chems)\n",
    "\n",
    "for c in chems_selected:\n",
    "    chems['next_1y_'+c] = [np.nan]*len(chems)\n",
    "    chems['d_1y_'+c] = [np.nan]*len(chems)\n",
    "    chems['next_2y_'+c] = [np.nan]*len(chems)\n",
    "    chems['d_2y_'+c] = [np.nan]*len(chems)"
   ]
  },
  {
   "cell_type": "code",
   "execution_count": 21,
   "id": "7784924d-30cf-48e2-8c99-25c917f7c82b",
   "metadata": {},
   "outputs": [],
   "source": [
    "current_id = None\n",
    "prev_time = 0\n",
    "for i, (index, row) in enumerate(chems.iterrows()):\n",
    "    if row.public_client_id != current_id:\n",
    "        current_id = row.public_client_id\n",
    "    prev_time = row.days_in_program\n",
    "    j = i + 1\n",
    "    while j < len(chems) - 1:\n",
    "        next_row = chems.iloc[j]\n",
    "        if next_row.public_client_id == current_id:\n",
    "            days_til_next = next_row.days_in_program - prev_time\n",
    "            if days_til_next < 420 and days_til_next > 300:\n",
    "                chems.loc[index, 'days_til_next_1y'] = days_til_next\n",
    "                for c in chems_selected:\n",
    "                    chems.loc[index, 'next_1y_' + c] = next_row[chems_to_column[c]]\n",
    "                    chems.loc[index, 'd_1y_' + c] = next_row[chems_to_column[c]] - row[chems_to_column[c]]\n",
    "            if days_til_next > 660 and days_til_next < 780:\n",
    "                chems.loc[index, 'days_til_next_2y'] = days_til_next\n",
    "                for c in chems_selected:\n",
    "                    chems.loc[index, 'next_2y_' + c] = next_row[chems_to_column[c]]\n",
    "                    chems.loc[index, 'd_2y_' + c] = next_row[chems_to_column[c]] - row[chems_to_column[c]]\n",
    "            j += 1\n",
    "        else:\n",
    "            break"
   ]
  },
  {
   "cell_type": "code",
   "execution_count": 22,
   "id": "377da4e2-de7b-4754-b058-a0bb24e6242f",
   "metadata": {},
   "outputs": [
    {
     "name": "stdout",
     "output_type": "stream",
     "text": [
      "2407 695\n"
     ]
    }
   ],
   "source": [
    "print((~chems['next_1y_GFR'].isna()).sum(), (~chems['next_2y_GFR'].isna()).sum())"
   ]
  },
  {
   "cell_type": "markdown",
   "id": "be7374b5-96ac-44b3-ba90-7075e13eacb9",
   "metadata": {},
   "source": [
    "## 2. Creating a combined clinical-metabolomic-proteomic table"
   ]
  },
  {
   "cell_type": "code",
   "execution_count": 23,
   "id": "2a278f3a-0a5a-470e-88c5-65686a0ae89c",
   "metadata": {},
   "outputs": [],
   "source": [
    "combined_table_mets = pd.concat([mets_all, prots_all, chems], axis=1)"
   ]
  },
  {
   "cell_type": "code",
   "execution_count": 24,
   "id": "49242ea9-79f6-4ef3-8a58-882612ba6ca9",
   "metadata": {},
   "outputs": [
    {
     "name": "stderr",
     "output_type": "stream",
     "text": [
      "/tmp/ipykernel_902511/4081420276.py:1: FutureWarning: In a future version of pandas all arguments of DataFrame.any and Series.any will be keyword-only.\n",
      "  combined_table_mets_filtered = combined_table_mets[~combined_table_mets['public_client_id'].isna().any(1)]\n"
     ]
    }
   ],
   "source": [
    "combined_table_mets_filtered = combined_table_mets[~combined_table_mets['public_client_id'].isna().any(1)]"
   ]
  },
  {
   "cell_type": "code",
   "execution_count": 25,
   "id": "f1c837bf-d5d9-4c6e-830d-5b047eb024c8",
   "metadata": {},
   "outputs": [],
   "source": [
    "combined_table_mets_filtered = combined_table_mets_filtered.loc[:, ~combined_table_mets_filtered.columns.duplicated()]"
   ]
  },
  {
   "cell_type": "code",
   "execution_count": 26,
   "id": "4773867b-0157-4cb7-91f4-0a07f5dca9cd",
   "metadata": {},
   "outputs": [
    {
     "data": {
      "text/plain": [
       "(3182, 1170)"
      ]
     },
     "execution_count": 26,
     "metadata": {},
     "output_type": "execute_result"
    }
   ],
   "source": [
    "combined_table_mets_filtered.shape"
   ]
  },
  {
   "cell_type": "code",
   "execution_count": 27,
   "id": "b451e6e3-6563-41db-8fbc-2675416c2775",
   "metadata": {},
   "outputs": [],
   "source": [
    "# TODO: this messes up the dtypes\n",
    "combined_table_mets_filtered = combined_table_mets_filtered.T.drop_duplicates(keep='first').T\n",
    "combined_table_mets_filtered = combined_table_mets_filtered.infer_objects()"
   ]
  },
  {
   "cell_type": "code",
   "execution_count": 28,
   "id": "57b6759e-7f3e-45e7-8f0f-a69774bc8bd7",
   "metadata": {
    "tags": []
   },
   "outputs": [
    {
     "data": {
      "text/plain": [
       "(3182, 1170)"
      ]
     },
     "execution_count": 28,
     "metadata": {},
     "output_type": "execute_result"
    }
   ],
   "source": [
    "combined_table_mets_filtered.shape"
   ]
  },
  {
   "cell_type": "code",
   "execution_count": 29,
   "id": "0e7be2ff-2d48-4811-8883-4d6a9ee5b5b1",
   "metadata": {},
   "outputs": [],
   "source": [
    "combined_table_mets_filtered = combined_table_mets_filtered.sort_index()"
   ]
  },
  {
   "cell_type": "markdown",
   "id": "1760183c-0afa-4897-8c25-dda2d4afb2a7",
   "metadata": {},
   "source": [
    "### Adding additional fields to the table - age, weight, meds, etc"
   ]
  },
  {
   "cell_type": "code",
   "execution_count": 30,
   "id": "7d966959-ac51-456b-95b2-f00293ef7fad",
   "metadata": {},
   "outputs": [],
   "source": [
    "# TODO: add meds_blood_sugar as a feature\n",
    "samples_all.index = samples_all.public_client_id\n",
    "weight.index = weight.public_client_id"
   ]
  },
  {
   "cell_type": "code",
   "execution_count": 31,
   "id": "c86255d2-673d-47be-ae1f-bf31d4453ade",
   "metadata": {},
   "outputs": [],
   "source": [
    "def get_nearest_index(df, col, val):\n",
    "    \"Gets the nearest index to the val, given a df sorted by col.\"\n",
    "    min_distance = np.inf\n",
    "    best_index = None\n",
    "    best_row = None\n",
    "    for index, row in df.iterrows():\n",
    "        distance = np.abs(row[col] - val)\n",
    "        if distance < min_distance:\n",
    "            min_distance = distance\n",
    "            best_index = index\n",
    "            best_row = row\n",
    "        else:\n",
    "            if best_index is not None:\n",
    "                return best_index, best_row\n",
    "    return best_index, best_row"
   ]
  },
  {
   "cell_type": "code",
   "execution_count": 32,
   "id": "157cb6f9-3b02-4f22-8ce9-6cb596fe7848",
   "metadata": {
    "scrolled": true,
    "tags": []
   },
   "outputs": [
    {
     "name": "stdout",
     "output_type": "stream",
     "text": [
      "age not available for 01000261\n",
      "sample questionnaires not available for 01021265\n",
      "weights not available for 01029483\n",
      "weights not available for 01029483\n",
      "weights not available for 01029483\n",
      "sample questionnaires not available for 01036226\n",
      "age not available for 01037794\n",
      "age not available for 01039674\n",
      "age not available for 01049319\n",
      "age not available for 01051690\n",
      "age not available for 01053293\n",
      "age not available for 01059410\n",
      "sample questionnaires not available for 01066842\n",
      "sample questionnaires not available for 01067542\n",
      "sample questionnaires not available for 01067542\n",
      "sample questionnaires not available for 01067542\n",
      "age not available for 01071744\n",
      "age not available for 01090838\n",
      "age not available for 01097466\n",
      "age not available for 01111951\n",
      "age not available for 01112253\n",
      "age not available for 01112759\n",
      "age not available for 01116375\n",
      "age not available for 01131110\n",
      "age not available for 01136823\n",
      "age not available for 01140627\n",
      "age not available for 01148961\n",
      "age not available for 01156139\n",
      "age not available for 01175699\n",
      "age not available for 01175898\n",
      "age not available for 01188029\n",
      "sample questionnaires not available for 01196562\n",
      "sample questionnaires not available for 01196748\n",
      "age not available for 01197738\n",
      "age not available for 01198512\n",
      "age not available for 01203155\n",
      "sample questionnaires not available for 01218819\n",
      "age not available for 01221916\n",
      "sample questionnaires not available for 01227294\n",
      "age not available for 01231028\n",
      "age not available for 01231675\n",
      "age not available for 01240903\n",
      "age not available for 01252086\n",
      "age not available for 01252217\n",
      "age not available for 01265137\n",
      "age not available for 01267502\n",
      "age not available for 01269807\n",
      "age not available for 01270545\n",
      "age not available for 01305044\n",
      "age not available for 01311886\n",
      "age not available for 01312867\n",
      "sample questionnaires not available for 01318417\n",
      "weights not available for 01321059\n",
      "weights not available for 01321059\n",
      "age not available for 01348686\n",
      "age not available for 01354181\n",
      "weights not available for 01390463\n",
      "age not available for 01404534\n",
      "age not available for 01415692\n",
      "age not available for 01417908\n",
      "age not available for 01424474\n",
      "age not available for 01430305\n",
      "sample questionnaires not available for 01432894\n",
      "age not available for 01436412\n",
      "age not available for 01446281\n",
      "age not available for 01460947\n",
      "sample questionnaires not available for 01474725\n",
      "age not available for 01485831\n",
      "age not available for 01491251\n",
      "age not available for 01495427\n",
      "age not available for 01505930\n",
      "sample questionnaires not available for 01515817\n",
      "age not available for 01525318\n",
      "sample questionnaires not available for 01525398\n",
      "age not available for 01527474\n",
      "age not available for 01528743\n",
      "sample questionnaires not available for 01543126\n",
      "sample questionnaires not available for 01543273\n",
      "age not available for 01557186\n",
      "age not available for 01560701\n",
      "age not available for 01568735\n",
      "age not available for 01590591\n",
      "age not available for 01597992\n",
      "age not available for 01602738\n",
      "age not available for 01615335\n",
      "age not available for 01618096\n",
      "age not available for 01619196\n",
      "age not available for 01631142\n",
      "age not available for 01637539\n",
      "age not available for 01643977\n",
      "age not available for 01645313\n",
      "age not available for 01661023\n",
      "sample questionnaires not available for 01670861\n",
      "age not available for 01690940\n",
      "age not available for 01721794\n",
      "age not available for 01762101\n",
      "age not available for 01767960\n",
      "age not available for 01784335\n",
      "sample questionnaires not available for 01789415\n",
      "age not available for 01792536\n",
      "age not available for 01792854\n",
      "age not available for 01806768\n",
      "age not available for 01809143\n",
      "age not available for 01814463\n",
      "age not available for 01830211\n",
      "age not available for 01836299\n",
      "age not available for 01837890\n",
      "sample questionnaires not available for 01840056\n",
      "sample questionnaires not available for 01848354\n",
      "age not available for 01856718\n",
      "sample questionnaires not available for 01857729\n",
      "age not available for 01859624\n",
      "age not available for 01865363\n",
      "age not available for 01867038\n",
      "age not available for 01869746\n",
      "age not available for 01891006\n",
      "age not available for 01892563\n",
      "age not available for 01895250\n",
      "age not available for 01895520\n",
      "age not available for 01904899\n",
      "age not available for 01908194\n",
      "age not available for 01909375\n",
      "age not available for 01933661\n",
      "age not available for 01941928\n",
      "age not available for 01976883\n",
      "age not available for 01993245\n",
      "age not available for 01994749\n",
      "age not available for 01997336\n",
      "age not available for INEW\n"
     ]
    }
   ],
   "source": [
    "clients.index = clients.public_client_id\n",
    "combined_table_mets_filtered = combined_table_mets_filtered.copy()\n",
    "combined_table_mets_filtered['age'] = np.zeros(combined_table_mets_filtered.shape[0]) + np.nan\n",
    "combined_table_mets_filtered['is_m'] = np.zeros(combined_table_mets_filtered.shape[0]) + np.nan\n",
    "combined_table_mets_filtered['weight'] = np.zeros(combined_table_mets_filtered.shape[0]) + np.nan\n",
    "combined_table_mets_filtered['height'] = np.zeros(combined_table_mets_filtered.shape[0]) + np.nan\n",
    "combined_table_mets_filtered['bmi'] = np.zeros(combined_table_mets_filtered.shape[0]) + np.nan\n",
    "combined_table_mets_filtered['meds_blood_sugar'] = np.zeros(combined_table_mets_filtered.shape[0]) + np.nan\n",
    "\n",
    "\n",
    "for i, row in combined_table_mets_filtered.iterrows():\n",
    "    # ci is client id\n",
    "    ci = i[0]\n",
    "    days = i[1]\n",
    "    try:\n",
    "        combined_table_mets_filtered.loc[i,'age'] = clients.loc[ci].age\n",
    "        combined_table_mets_filtered.loc[i,'is_m'] = int(clients.loc[ci].sex == 'M')\n",
    "    except:\n",
    "        print('age not available for', ci)\n",
    "    try:\n",
    "        weights_subset = weight.loc[ci]\n",
    "        if isinstance(weights_subset, pd.DataFrame):\n",
    "            weight_index, weight_row = get_nearest_index(weights_subset, 'days_in_program', days)\n",
    "        else:\n",
    "            weight_row = weights_subset\n",
    "        combined_table_mets_filtered.loc[i,'weight'] = weight_row.WEIGHT_CALC\n",
    "        combined_table_mets_filtered.loc[i,'height'] = weight_row.HEIGHT_CALC\n",
    "        combined_table_mets_filtered.loc[i,'bmi'] = weight_row.BMI_CALC\n",
    "    except:\n",
    "        print('weights not available for', ci)\n",
    "    try:\n",
    "        samples_subset = samples_all.loc[ci]\n",
    "        if isinstance(samples_subset, pd.DataFrame):\n",
    "            sample_index, sample_row = get_nearest_index(samples_subset, 'days_in_program', days)\n",
    "            combined_table_mets_filtered.loc[i,'meds_blood_sugar'] = sample_row.meds_blood_sugar\n",
    "        else:\n",
    "            combined_table_mets_filtered.loc[i,'meds_blood_sugar'] = samples_subset.meds_blood_sugar\n",
    "    except:\n",
    "        print('sample questionnaires not available for', ci)"
   ]
  },
  {
   "cell_type": "code",
   "execution_count": 33,
   "id": "54bc1eb1-a3dd-4656-967f-f38b8deb465c",
   "metadata": {},
   "outputs": [
    {
     "data": {
      "text/html": [
       "<div>\n",
       "<style scoped>\n",
       "    .dataframe tbody tr th:only-of-type {\n",
       "        vertical-align: middle;\n",
       "    }\n",
       "\n",
       "    .dataframe tbody tr th {\n",
       "        vertical-align: top;\n",
       "    }\n",
       "\n",
       "    .dataframe thead th {\n",
       "        text-align: right;\n",
       "    }\n",
       "</style>\n",
       "<table border=\"1\" class=\"dataframe\">\n",
       "  <thead>\n",
       "    <tr style=\"text-align: right;\">\n",
       "      <th></th>\n",
       "      <th></th>\n",
       "      <th>public_client_id</th>\n",
       "      <th>sample_id</th>\n",
       "      <th>days_in_program</th>\n",
       "      <th>days_since_first_call</th>\n",
       "      <th>days_since_first_draw</th>\n",
       "      <th>month</th>\n",
       "      <th>weekday</th>\n",
       "      <th>season</th>\n",
       "      <th>55</th>\n",
       "      <th>93</th>\n",
       "      <th>...</th>\n",
       "      <th>next_1y_HOMA-IR</th>\n",
       "      <th>d_1y_HOMA-IR</th>\n",
       "      <th>next_2y_HOMA-IR</th>\n",
       "      <th>d_2y_HOMA-IR</th>\n",
       "      <th>age</th>\n",
       "      <th>is_m</th>\n",
       "      <th>weight</th>\n",
       "      <th>height</th>\n",
       "      <th>bmi</th>\n",
       "      <th>meds_blood_sugar</th>\n",
       "    </tr>\n",
       "    <tr>\n",
       "      <th>public_client_id</th>\n",
       "      <th>days_in_program</th>\n",
       "      <th></th>\n",
       "      <th></th>\n",
       "      <th></th>\n",
       "      <th></th>\n",
       "      <th></th>\n",
       "      <th></th>\n",
       "      <th></th>\n",
       "      <th></th>\n",
       "      <th></th>\n",
       "      <th></th>\n",
       "      <th></th>\n",
       "      <th></th>\n",
       "      <th></th>\n",
       "      <th></th>\n",
       "      <th></th>\n",
       "      <th></th>\n",
       "      <th></th>\n",
       "      <th></th>\n",
       "      <th></th>\n",
       "      <th></th>\n",
       "      <th></th>\n",
       "    </tr>\n",
       "  </thead>\n",
       "  <tbody>\n",
       "    <tr>\n",
       "      <th>01000261</th>\n",
       "      <th>65</th>\n",
       "      <td>01000261</td>\n",
       "      <td>A477AV558-002</td>\n",
       "      <td>65.0</td>\n",
       "      <td>-9.0</td>\n",
       "      <td>0.0</td>\n",
       "      <td>Jan</td>\n",
       "      <td>Tue</td>\n",
       "      <td>winter</td>\n",
       "      <td>1.155771</td>\n",
       "      <td>0.947589</td>\n",
       "      <td>...</td>\n",
       "      <td>NaN</td>\n",
       "      <td>NaN</td>\n",
       "      <td>NaN</td>\n",
       "      <td>NaN</td>\n",
       "      <td>NaN</td>\n",
       "      <td>NaN</td>\n",
       "      <td>142.0</td>\n",
       "      <td>66.0</td>\n",
       "      <td>22.916896</td>\n",
       "      <td>No</td>\n",
       "    </tr>\n",
       "    <tr>\n",
       "      <th rowspan=\"2\" valign=\"top\">01001621</th>\n",
       "      <th>11</th>\n",
       "      <td>01001621</td>\n",
       "      <td>A776BI445-003</td>\n",
       "      <td>11.0</td>\n",
       "      <td>-31.0</td>\n",
       "      <td>0.0</td>\n",
       "      <td>Jul</td>\n",
       "      <td>Mon</td>\n",
       "      <td>summer</td>\n",
       "      <td>1.328050</td>\n",
       "      <td>1.366908</td>\n",
       "      <td>...</td>\n",
       "      <td>NaN</td>\n",
       "      <td>NaN</td>\n",
       "      <td>NaN</td>\n",
       "      <td>NaN</td>\n",
       "      <td>54.0</td>\n",
       "      <td>0.0</td>\n",
       "      <td>140.0</td>\n",
       "      <td>65.0</td>\n",
       "      <td>23.294675</td>\n",
       "      <td>No</td>\n",
       "    </tr>\n",
       "    <tr>\n",
       "      <th>265</th>\n",
       "      <td>01001621</td>\n",
       "      <td>A391BM948-002</td>\n",
       "      <td>265.0</td>\n",
       "      <td>223.0</td>\n",
       "      <td>254.0</td>\n",
       "      <td>Apr</td>\n",
       "      <td>Wed</td>\n",
       "      <td>spring</td>\n",
       "      <td>0.619724</td>\n",
       "      <td>1.334809</td>\n",
       "      <td>...</td>\n",
       "      <td>NaN</td>\n",
       "      <td>NaN</td>\n",
       "      <td>NaN</td>\n",
       "      <td>NaN</td>\n",
       "      <td>54.0</td>\n",
       "      <td>0.0</td>\n",
       "      <td>140.0</td>\n",
       "      <td>65.0</td>\n",
       "      <td>23.294675</td>\n",
       "      <td>No</td>\n",
       "    </tr>\n",
       "    <tr>\n",
       "      <th>01002183</th>\n",
       "      <th>13</th>\n",
       "      <td>01002183</td>\n",
       "      <td>A595AV320-002</td>\n",
       "      <td>13.0</td>\n",
       "      <td>-1.0</td>\n",
       "      <td>0.0</td>\n",
       "      <td>Jan</td>\n",
       "      <td>Wed</td>\n",
       "      <td>winter</td>\n",
       "      <td>0.425073</td>\n",
       "      <td>0.850577</td>\n",
       "      <td>...</td>\n",
       "      <td>2.040741</td>\n",
       "      <td>-0.751852</td>\n",
       "      <td>1.622222</td>\n",
       "      <td>-1.17037</td>\n",
       "      <td>68.0</td>\n",
       "      <td>0.0</td>\n",
       "      <td>128.0</td>\n",
       "      <td>65.0</td>\n",
       "      <td>21.297988</td>\n",
       "      <td>No</td>\n",
       "    </tr>\n",
       "    <tr>\n",
       "      <th>01002412</th>\n",
       "      <th>13</th>\n",
       "      <td>01002412</td>\n",
       "      <td>A294AU415-002</td>\n",
       "      <td>13.0</td>\n",
       "      <td>-6.0</td>\n",
       "      <td>0.0</td>\n",
       "      <td>Nov</td>\n",
       "      <td>Thu</td>\n",
       "      <td>fall</td>\n",
       "      <td>1.008430</td>\n",
       "      <td>0.877139</td>\n",
       "      <td>...</td>\n",
       "      <td>NaN</td>\n",
       "      <td>NaN</td>\n",
       "      <td>NaN</td>\n",
       "      <td>NaN</td>\n",
       "      <td>52.0</td>\n",
       "      <td>0.0</td>\n",
       "      <td>135.0</td>\n",
       "      <td>63.0</td>\n",
       "      <td>23.911565</td>\n",
       "      <td>No</td>\n",
       "    </tr>\n",
       "    <tr>\n",
       "      <th>...</th>\n",
       "      <th>...</th>\n",
       "      <td>...</td>\n",
       "      <td>...</td>\n",
       "      <td>...</td>\n",
       "      <td>...</td>\n",
       "      <td>...</td>\n",
       "      <td>...</td>\n",
       "      <td>...</td>\n",
       "      <td>...</td>\n",
       "      <td>...</td>\n",
       "      <td>...</td>\n",
       "      <td>...</td>\n",
       "      <td>...</td>\n",
       "      <td>...</td>\n",
       "      <td>...</td>\n",
       "      <td>...</td>\n",
       "      <td>...</td>\n",
       "      <td>...</td>\n",
       "      <td>...</td>\n",
       "      <td>...</td>\n",
       "      <td>...</td>\n",
       "      <td>...</td>\n",
       "    </tr>\n",
       "    <tr>\n",
       "      <th>HX344502</th>\n",
       "      <th>25</th>\n",
       "      <td>HX344502</td>\n",
       "      <td>A392BL829-002</td>\n",
       "      <td>25.0</td>\n",
       "      <td>21.0</td>\n",
       "      <td>0.0</td>\n",
       "      <td>Feb</td>\n",
       "      <td>Fri</td>\n",
       "      <td>winter</td>\n",
       "      <td>1.378031</td>\n",
       "      <td>1.017652</td>\n",
       "      <td>...</td>\n",
       "      <td>NaN</td>\n",
       "      <td>NaN</td>\n",
       "      <td>NaN</td>\n",
       "      <td>NaN</td>\n",
       "      <td>44.0</td>\n",
       "      <td>0.0</td>\n",
       "      <td>175.4</td>\n",
       "      <td>60.5</td>\n",
       "      <td>33.687917</td>\n",
       "      <td>No</td>\n",
       "    </tr>\n",
       "    <tr>\n",
       "      <th>HX409129</th>\n",
       "      <th>5</th>\n",
       "      <td>HX409129</td>\n",
       "      <td>A581BK409-002</td>\n",
       "      <td>5.0</td>\n",
       "      <td>2.0</td>\n",
       "      <td>0.0</td>\n",
       "      <td>Dec</td>\n",
       "      <td>Fri</td>\n",
       "      <td>winter</td>\n",
       "      <td>2.116840</td>\n",
       "      <td>NaN</td>\n",
       "      <td>...</td>\n",
       "      <td>1.044938</td>\n",
       "      <td>0.184938</td>\n",
       "      <td>NaN</td>\n",
       "      <td>NaN</td>\n",
       "      <td>47.0</td>\n",
       "      <td>0.0</td>\n",
       "      <td>179.4</td>\n",
       "      <td>64.0</td>\n",
       "      <td>30.790576</td>\n",
       "      <td>No</td>\n",
       "    </tr>\n",
       "    <tr>\n",
       "      <th>HX460562</th>\n",
       "      <th>28</th>\n",
       "      <td>HX460562</td>\n",
       "      <td>A641BO324-003</td>\n",
       "      <td>28.0</td>\n",
       "      <td>7.0</td>\n",
       "      <td>0.0</td>\n",
       "      <td>Aug</td>\n",
       "      <td>Thu</td>\n",
       "      <td>summer</td>\n",
       "      <td>1.731506</td>\n",
       "      <td>0.804149</td>\n",
       "      <td>...</td>\n",
       "      <td>NaN</td>\n",
       "      <td>NaN</td>\n",
       "      <td>NaN</td>\n",
       "      <td>NaN</td>\n",
       "      <td>48.0</td>\n",
       "      <td>0.0</td>\n",
       "      <td>330.0</td>\n",
       "      <td>68.0</td>\n",
       "      <td>50.170848</td>\n",
       "      <td>No</td>\n",
       "    </tr>\n",
       "    <tr>\n",
       "      <th>HX794171</th>\n",
       "      <th>56</th>\n",
       "      <td>HX794171</td>\n",
       "      <td>A229BM682-002</td>\n",
       "      <td>56.0</td>\n",
       "      <td>-17.0</td>\n",
       "      <td>0.0</td>\n",
       "      <td>Mar</td>\n",
       "      <td>Fri</td>\n",
       "      <td>spring</td>\n",
       "      <td>0.660610</td>\n",
       "      <td>NaN</td>\n",
       "      <td>...</td>\n",
       "      <td>NaN</td>\n",
       "      <td>NaN</td>\n",
       "      <td>NaN</td>\n",
       "      <td>NaN</td>\n",
       "      <td>37.0</td>\n",
       "      <td>1.0</td>\n",
       "      <td>245.7</td>\n",
       "      <td>72.0</td>\n",
       "      <td>33.319271</td>\n",
       "      <td>No</td>\n",
       "    </tr>\n",
       "    <tr>\n",
       "      <th>INEW</th>\n",
       "      <th>149</th>\n",
       "      <td>INEW</td>\n",
       "      <td>A750AX220-002</td>\n",
       "      <td>149.0</td>\n",
       "      <td>106.0</td>\n",
       "      <td>142.0</td>\n",
       "      <td>Mar</td>\n",
       "      <td>Fri</td>\n",
       "      <td>spring</td>\n",
       "      <td>1.635473</td>\n",
       "      <td>0.826271</td>\n",
       "      <td>...</td>\n",
       "      <td>NaN</td>\n",
       "      <td>NaN</td>\n",
       "      <td>NaN</td>\n",
       "      <td>NaN</td>\n",
       "      <td>NaN</td>\n",
       "      <td>NaN</td>\n",
       "      <td>196.2</td>\n",
       "      <td>69.0</td>\n",
       "      <td>28.970510</td>\n",
       "      <td>No</td>\n",
       "    </tr>\n",
       "  </tbody>\n",
       "</table>\n",
       "<p>3182 rows × 1176 columns</p>\n",
       "</div>"
      ],
      "text/plain": [
       "                                 public_client_id      sample_id  \\\n",
       "public_client_id days_in_program                                   \n",
       "01000261         65                      01000261  A477AV558-002   \n",
       "01001621         11                      01001621  A776BI445-003   \n",
       "                 265                     01001621  A391BM948-002   \n",
       "01002183         13                      01002183  A595AV320-002   \n",
       "01002412         13                      01002412  A294AU415-002   \n",
       "...                                           ...            ...   \n",
       "HX344502         25                      HX344502  A392BL829-002   \n",
       "HX409129         5                       HX409129  A581BK409-002   \n",
       "HX460562         28                      HX460562  A641BO324-003   \n",
       "HX794171         56                      HX794171  A229BM682-002   \n",
       "INEW             149                         INEW  A750AX220-002   \n",
       "\n",
       "                                  days_in_program  days_since_first_call  \\\n",
       "public_client_id days_in_program                                           \n",
       "01000261         65                          65.0                   -9.0   \n",
       "01001621         11                          11.0                  -31.0   \n",
       "                 265                        265.0                  223.0   \n",
       "01002183         13                          13.0                   -1.0   \n",
       "01002412         13                          13.0                   -6.0   \n",
       "...                                           ...                    ...   \n",
       "HX344502         25                          25.0                   21.0   \n",
       "HX409129         5                            5.0                    2.0   \n",
       "HX460562         28                          28.0                    7.0   \n",
       "HX794171         56                          56.0                  -17.0   \n",
       "INEW             149                        149.0                  106.0   \n",
       "\n",
       "                                  days_since_first_draw month weekday  season  \\\n",
       "public_client_id days_in_program                                                \n",
       "01000261         65                                 0.0   Jan     Tue  winter   \n",
       "01001621         11                                 0.0   Jul     Mon  summer   \n",
       "                 265                              254.0   Apr     Wed  spring   \n",
       "01002183         13                                 0.0   Jan     Wed  winter   \n",
       "01002412         13                                 0.0   Nov     Thu    fall   \n",
       "...                                                 ...   ...     ...     ...   \n",
       "HX344502         25                                 0.0   Feb     Fri  winter   \n",
       "HX409129         5                                  0.0   Dec     Fri  winter   \n",
       "HX460562         28                                 0.0   Aug     Thu  summer   \n",
       "HX794171         56                                 0.0   Mar     Fri  spring   \n",
       "INEW             149                              142.0   Mar     Fri  spring   \n",
       "\n",
       "                                        55        93  ...  next_1y_HOMA-IR  \\\n",
       "public_client_id days_in_program                      ...                    \n",
       "01000261         65               1.155771  0.947589  ...              NaN   \n",
       "01001621         11               1.328050  1.366908  ...              NaN   \n",
       "                 265              0.619724  1.334809  ...              NaN   \n",
       "01002183         13               0.425073  0.850577  ...         2.040741   \n",
       "01002412         13               1.008430  0.877139  ...              NaN   \n",
       "...                                    ...       ...  ...              ...   \n",
       "HX344502         25               1.378031  1.017652  ...              NaN   \n",
       "HX409129         5                2.116840       NaN  ...         1.044938   \n",
       "HX460562         28               1.731506  0.804149  ...              NaN   \n",
       "HX794171         56               0.660610       NaN  ...              NaN   \n",
       "INEW             149              1.635473  0.826271  ...              NaN   \n",
       "\n",
       "                                  d_1y_HOMA-IR  next_2y_HOMA-IR  d_2y_HOMA-IR  \\\n",
       "public_client_id days_in_program                                                \n",
       "01000261         65                        NaN              NaN           NaN   \n",
       "01001621         11                        NaN              NaN           NaN   \n",
       "                 265                       NaN              NaN           NaN   \n",
       "01002183         13                  -0.751852         1.622222      -1.17037   \n",
       "01002412         13                        NaN              NaN           NaN   \n",
       "...                                        ...              ...           ...   \n",
       "HX344502         25                        NaN              NaN           NaN   \n",
       "HX409129         5                    0.184938              NaN           NaN   \n",
       "HX460562         28                        NaN              NaN           NaN   \n",
       "HX794171         56                        NaN              NaN           NaN   \n",
       "INEW             149                       NaN              NaN           NaN   \n",
       "\n",
       "                                   age  is_m  weight  height        bmi  \\\n",
       "public_client_id days_in_program                                          \n",
       "01000261         65                NaN   NaN   142.0    66.0  22.916896   \n",
       "01001621         11               54.0   0.0   140.0    65.0  23.294675   \n",
       "                 265              54.0   0.0   140.0    65.0  23.294675   \n",
       "01002183         13               68.0   0.0   128.0    65.0  21.297988   \n",
       "01002412         13               52.0   0.0   135.0    63.0  23.911565   \n",
       "...                                ...   ...     ...     ...        ...   \n",
       "HX344502         25               44.0   0.0   175.4    60.5  33.687917   \n",
       "HX409129         5                47.0   0.0   179.4    64.0  30.790576   \n",
       "HX460562         28               48.0   0.0   330.0    68.0  50.170848   \n",
       "HX794171         56               37.0   1.0   245.7    72.0  33.319271   \n",
       "INEW             149               NaN   NaN   196.2    69.0  28.970510   \n",
       "\n",
       "                                  meds_blood_sugar  \n",
       "public_client_id days_in_program                    \n",
       "01000261         65                             No  \n",
       "01001621         11                             No  \n",
       "                 265                            No  \n",
       "01002183         13                             No  \n",
       "01002412         13                             No  \n",
       "...                                            ...  \n",
       "HX344502         25                             No  \n",
       "HX409129         5                              No  \n",
       "HX460562         28                             No  \n",
       "HX794171         56                             No  \n",
       "INEW             149                            No  \n",
       "\n",
       "[3182 rows x 1176 columns]"
      ]
     },
     "execution_count": 33,
     "metadata": {},
     "output_type": "execute_result"
    }
   ],
   "source": [
    "combined_table_mets_filtered"
   ]
  },
  {
   "cell_type": "code",
   "execution_count": 34,
   "id": "d06bb064-0ba7-4b19-b0f7-8a7416675f44",
   "metadata": {},
   "outputs": [
    {
     "data": {
      "text/html": [
       "<div>\n",
       "<style scoped>\n",
       "    .dataframe tbody tr th:only-of-type {\n",
       "        vertical-align: middle;\n",
       "    }\n",
       "\n",
       "    .dataframe tbody tr th {\n",
       "        vertical-align: top;\n",
       "    }\n",
       "\n",
       "    .dataframe thead th {\n",
       "        text-align: right;\n",
       "    }\n",
       "</style>\n",
       "<table border=\"1\" class=\"dataframe\">\n",
       "  <thead>\n",
       "    <tr style=\"text-align: right;\">\n",
       "      <th></th>\n",
       "      <th></th>\n",
       "      <th>GLYCOHEMOGLOBIN A1C</th>\n",
       "      <th>next_HbA1C</th>\n",
       "      <th>d_HbA1C</th>\n",
       "    </tr>\n",
       "    <tr>\n",
       "      <th>public_client_id</th>\n",
       "      <th>days_in_program</th>\n",
       "      <th></th>\n",
       "      <th></th>\n",
       "      <th></th>\n",
       "    </tr>\n",
       "  </thead>\n",
       "  <tbody>\n",
       "    <tr>\n",
       "      <th>01000261</th>\n",
       "      <th>65</th>\n",
       "      <td>5.1</td>\n",
       "      <td>5.5</td>\n",
       "      <td>0.4</td>\n",
       "    </tr>\n",
       "    <tr>\n",
       "      <th rowspan=\"2\" valign=\"top\">01001621</th>\n",
       "      <th>11</th>\n",
       "      <td>5.6</td>\n",
       "      <td>5.5</td>\n",
       "      <td>-0.1</td>\n",
       "    </tr>\n",
       "    <tr>\n",
       "      <th>265</th>\n",
       "      <td>5.5</td>\n",
       "      <td>0.0</td>\n",
       "      <td>0.0</td>\n",
       "    </tr>\n",
       "    <tr>\n",
       "      <th>01002183</th>\n",
       "      <th>13</th>\n",
       "      <td>5.3</td>\n",
       "      <td>5.7</td>\n",
       "      <td>0.4</td>\n",
       "    </tr>\n",
       "    <tr>\n",
       "      <th>01002412</th>\n",
       "      <th>13</th>\n",
       "      <td>4.8</td>\n",
       "      <td>5.2</td>\n",
       "      <td>0.4</td>\n",
       "    </tr>\n",
       "    <tr>\n",
       "      <th>...</th>\n",
       "      <th>...</th>\n",
       "      <td>...</td>\n",
       "      <td>...</td>\n",
       "      <td>...</td>\n",
       "    </tr>\n",
       "    <tr>\n",
       "      <th>HX344502</th>\n",
       "      <th>25</th>\n",
       "      <td>5.2</td>\n",
       "      <td>0.0</td>\n",
       "      <td>0.0</td>\n",
       "    </tr>\n",
       "    <tr>\n",
       "      <th>HX409129</th>\n",
       "      <th>5</th>\n",
       "      <td>5.3</td>\n",
       "      <td>5.3</td>\n",
       "      <td>0.0</td>\n",
       "    </tr>\n",
       "    <tr>\n",
       "      <th>HX460562</th>\n",
       "      <th>28</th>\n",
       "      <td>6.1</td>\n",
       "      <td>5.8</td>\n",
       "      <td>-0.3</td>\n",
       "    </tr>\n",
       "    <tr>\n",
       "      <th>HX794171</th>\n",
       "      <th>56</th>\n",
       "      <td>5.2</td>\n",
       "      <td>0.0</td>\n",
       "      <td>0.0</td>\n",
       "    </tr>\n",
       "    <tr>\n",
       "      <th>INEW</th>\n",
       "      <th>149</th>\n",
       "      <td>5.4</td>\n",
       "      <td>0.0</td>\n",
       "      <td>0.0</td>\n",
       "    </tr>\n",
       "  </tbody>\n",
       "</table>\n",
       "<p>3182 rows × 3 columns</p>\n",
       "</div>"
      ],
      "text/plain": [
       "                                  GLYCOHEMOGLOBIN A1C  next_HbA1C  d_HbA1C\n",
       "public_client_id days_in_program                                          \n",
       "01000261         65                               5.1         5.5      0.4\n",
       "01001621         11                               5.6         5.5     -0.1\n",
       "                 265                              5.5         0.0      0.0\n",
       "01002183         13                               5.3         5.7      0.4\n",
       "01002412         13                               4.8         5.2      0.4\n",
       "...                                               ...         ...      ...\n",
       "HX344502         25                               5.2         0.0      0.0\n",
       "HX409129         5                                5.3         5.3      0.0\n",
       "HX460562         28                               6.1         5.8     -0.3\n",
       "HX794171         56                               5.2         0.0      0.0\n",
       "INEW             149                              5.4         0.0      0.0\n",
       "\n",
       "[3182 rows x 3 columns]"
      ]
     },
     "execution_count": 34,
     "metadata": {},
     "output_type": "execute_result"
    }
   ],
   "source": [
    "combined_table_mets_filtered[['GLYCOHEMOGLOBIN A1C', 'next_HbA1C', 'd_HbA1C']]"
   ]
  },
  {
   "cell_type": "code",
   "execution_count": 35,
   "id": "fc4caa19-6955-4188-8b40-441a0676373b",
   "metadata": {},
   "outputs": [
    {
     "data": {
      "text/plain": [
       "629"
      ]
     },
     "execution_count": 35,
     "metadata": {},
     "output_type": "execute_result"
    }
   ],
   "source": [
    "(combined_table_mets_filtered.next_HbA1C == 0).sum()"
   ]
  },
  {
   "cell_type": "code",
   "execution_count": 36,
   "id": "81d30362-097f-41e4-9232-923a4510ddd6",
   "metadata": {},
   "outputs": [
    {
     "data": {
      "text/plain": [
       "19"
      ]
     },
     "execution_count": 36,
     "metadata": {},
     "output_type": "execute_result"
    }
   ],
   "source": [
    "(combined_table_mets_filtered.next_HbA1C.isna()).sum()"
   ]
  },
  {
   "cell_type": "code",
   "execution_count": 37,
   "id": "4bdf104f-3cb4-4da7-906f-03864f572039",
   "metadata": {},
   "outputs": [
    {
     "data": {
      "text/plain": [
       "17"
      ]
     },
     "execution_count": 37,
     "metadata": {},
     "output_type": "execute_result"
    }
   ],
   "source": [
    "(combined_table_mets_filtered.next_GLUCOSE.isna()).sum()"
   ]
  },
  {
   "cell_type": "markdown",
   "id": "610496f2-b647-40de-811f-938c1b13052d",
   "metadata": {},
   "source": [
    "### Averaging duplicated protein columns - if protein columns are duplicated across sets, average them."
   ]
  },
  {
   "cell_type": "code",
   "execution_count": 38,
   "id": "dca284d2-0f69-48f7-8862-614925d6b5d2",
   "metadata": {
    "scrolled": true,
    "tags": []
   },
   "outputs": [
    {
     "name": "stdout",
     "output_type": "stream",
     "text": [
      "CCL2 ['CVD3_P13500', 'INF_P13500']\n",
      "             CVD3_P13500  INF_P13500\n",
      "CVD3_P13500     1.000000    0.714038\n",
      "INF_P13500      0.714038    1.000000\n",
      "CCL3 ['CVD2_P10147', 'INF_P10147']\n",
      "             CVD2_P10147  INF_P10147\n",
      "CVD2_P10147     1.000000    0.905243\n",
      "INF_P10147      0.905243    1.000000\n",
      "CXCL1 ['CVD2_P09341', 'INF_P09341']\n",
      "             CVD2_P09341  INF_P09341\n",
      "CVD2_P09341     1.000000    0.949313\n",
      "INF_P09341      0.949313    1.000000\n",
      "FGF21 ['CVD2_Q9NSA1', 'INF_Q9NSA1']\n",
      "             CVD2_Q9NSA1  INF_Q9NSA1\n",
      "CVD2_Q9NSA1     1.000000    0.974045\n",
      "INF_Q9NSA1      0.974045    1.000000\n",
      "FGF23 ['CVD2_Q9GZV9', 'INF_Q9GZV9']\n",
      "             CVD2_Q9GZV9  INF_Q9GZV9\n",
      "CVD2_Q9GZV9     1.000000    0.853413\n",
      "INF_Q9GZV9      0.853413    1.000000\n",
      "IL18 ['CVD2_Q14116', 'INF_Q14116']\n",
      "             CVD2_Q14116  INF_Q14116\n",
      "CVD2_Q14116     1.000000    0.705567\n",
      "INF_Q14116      0.705567    1.000000\n",
      "IL6 ['CVD2_P05231', 'INF_P05231']\n",
      "             CVD2_P05231  INF_P05231\n",
      "CVD2_P05231     1.000000    0.956517\n",
      "INF_P05231      0.956517    1.000000\n",
      "KITLG ['CVD2_P21583', 'INF_P21583']\n",
      "             CVD2_P21583  INF_P21583\n",
      "CVD2_P21583     1.000000    0.851202\n",
      "INF_P21583      0.851202    1.000000\n",
      "PLAU ['CVD3_P00749', 'INF_P00749']\n",
      "             CVD3_P00749  INF_P00749\n",
      "CVD3_P00749     1.000000    0.591127\n",
      "INF_P00749      0.591127    1.000000\n",
      "TNFRSF11B ['CVD3_O00300', 'INF_O00300']\n",
      "             CVD3_O00300  INF_O00300\n",
      "CVD3_O00300     1.000000    0.755125\n",
      "INF_O00300      0.755125    1.000000\n"
     ]
    }
   ],
   "source": [
    "prot_names = pd.read_csv('../arivale_data/arivale_prots.tsv', sep='\\t')\n",
    "gene_names = prot_names.groupby('gene_name')['index'].unique()\n",
    "duplicate_gene_names = gene_names[gene_names.map(len) > 1]\n",
    "combined_table_mets_prots = combined_table_mets_filtered.copy()\n",
    "for index, ids in duplicate_gene_names.items():\n",
    "    table_ids = [i for i in combined_table_mets_filtered.columns if i in ids]\n",
    "    if len(table_ids) > 1:\n",
    "        print(index, table_ids)\n",
    "        print(combined_table_mets_filtered[table_ids].corr())\n",
    "        table_mean = combined_table_mets_filtered[table_ids].mean(axis=1, skipna=True)\n",
    "        combined_table_mets_prots[table_ids[0]] = table_mean\n",
    "        combined_table_mets_prots = combined_table_mets_prots.drop(table_ids[1:], axis=1)"
   ]
  },
  {
   "cell_type": "code",
   "execution_count": 39,
   "id": "f1a7510f-98cd-47fb-8e71-a0061bc43bc2",
   "metadata": {},
   "outputs": [
    {
     "name": "stdout",
     "output_type": "stream",
     "text": [
      "(3182, 1166)\n"
     ]
    }
   ],
   "source": [
    "print(combined_table_mets_prots.shape)"
   ]
  },
  {
   "cell_type": "markdown",
   "id": "5d8858b8-994f-406d-b997-369f63348d4c",
   "metadata": {},
   "source": [
    "### Taking only the first time point"
   ]
  },
  {
   "cell_type": "code",
   "execution_count": 40,
   "id": "f4a6546b-4387-47dd-b2d8-97ab9f975a7d",
   "metadata": {},
   "outputs": [],
   "source": [
    "#  try taking only the first patient?\n",
    "first_items = []\n",
    "prev_client = None\n",
    "for c in combined_table_mets_prots.public_client_id:\n",
    "    if c == prev_client:\n",
    "        first_items.append(False)\n",
    "    else:\n",
    "        prev_client = c\n",
    "        first_items.append(True)\n",
    "first_items = np.array(first_items)\n",
    "\n",
    "combined_table_mets_filtered_first_items = combined_table_mets_prots[first_items]"
   ]
  },
  {
   "cell_type": "code",
   "execution_count": 41,
   "id": "fc17156d-d28a-4603-afc5-9a1747784375",
   "metadata": {},
   "outputs": [
    {
     "name": "stdout",
     "output_type": "stream",
     "text": [
      "(2008, 1166)\n"
     ]
    }
   ],
   "source": [
    "print(combined_table_mets_filtered_first_items.shape)"
   ]
  },
  {
   "cell_type": "markdown",
   "id": "0790f182-25a1-431d-af89-a99697609537",
   "metadata": {},
   "source": [
    "### Filtering columns by NaNs, selecting columns to use\n",
    "\n",
    "1. remove rows that have missing next-time-point values\n",
    "2. identify -omics/clinical columns that have less than 10% missingness, select these columns to use for further analysis"
   ]
  },
  {
   "cell_type": "code",
   "execution_count": 42,
   "id": "2b5d4c24-f718-4256-b336-15d1f73587ff",
   "metadata": {},
   "outputs": [],
   "source": [
    "combined_table_mets_filtered_1 = combined_table_mets_filtered_first_items[(combined_table_mets_filtered_first_items.next_HbA1C != 0) &\\\n",
    "                                                (combined_table_mets_filtered_first_items.next_GFR != 0) &\\\n",
    "                                                (combined_table_mets_filtered_first_items.next_GLUCOSE != 0) &\\\n",
    "                                                (combined_table_mets_filtered_first_items.next_INSULIN != 0) &\\\n",
    "                                                (~combined_table_mets_filtered_first_items.next_HbA1C.isna()) &\\\n",
    "                                                (~combined_table_mets_filtered_first_items.next_GFR.isna()) &\\\n",
    "                                                (~combined_table_mets_filtered_first_items.next_GLUCOSE.isna()) &\\\n",
    "                                                (~combined_table_mets_filtered_first_items.next_INSULIN.isna())]"
   ]
  },
  {
   "cell_type": "code",
   "execution_count": 43,
   "id": "d47c7eb4-f8fe-455c-a85b-a0f8734ef4d3",
   "metadata": {},
   "outputs": [],
   "source": [
    "for chem, col_name in chems_to_column.items():\n",
    "    combined_table_mets_filtered_1 = combined_table_mets_filtered_1[~combined_table_mets_filtered_1[col_name].isna()]"
   ]
  },
  {
   "cell_type": "code",
   "execution_count": 44,
   "id": "e4028d80-dff8-447e-a494-a786cf80b454",
   "metadata": {},
   "outputs": [
    {
     "name": "stdout",
     "output_type": "stream",
     "text": [
      "(1705, 1166)\n"
     ]
    }
   ],
   "source": [
    "print(combined_table_mets_filtered_1.shape)"
   ]
  },
  {
   "cell_type": "code",
   "execution_count": 45,
   "id": "9144e510-0433-454d-bac1-2a7a507487dd",
   "metadata": {},
   "outputs": [],
   "source": [
    "na_counts = combined_table_mets_filtered_1.isna().sum(0)"
   ]
  },
  {
   "cell_type": "markdown",
   "id": "73d78899-6011-47a3-9323-403fd43692f7",
   "metadata": {},
   "source": [
    "Cutofff of 10% missingness for columns"
   ]
  },
  {
   "cell_type": "code",
   "execution_count": 46,
   "id": "1897cb5e-02f3-4ca4-9a6e-0e0e883518d8",
   "metadata": {},
   "outputs": [],
   "source": [
    "less_than_10 = (na_counts < combined_table_mets_filtered_1.shape[0]*0.1) & (combined_table_mets_filtered_1.dtypes == np.float64)"
   ]
  },
  {
   "cell_type": "code",
   "execution_count": 47,
   "id": "267139b7-f485-4034-bea6-ee1668efb44e",
   "metadata": {},
   "outputs": [],
   "source": [
    "is_next = combined_table_mets_filtered_1.columns.str.contains('d_') |\\\n",
    "          combined_table_mets_filtered_1.columns.str.contains('next_')| \\\n",
    "          combined_table_mets_filtered_1.columns.str.contains('prev_')"
   ]
  },
  {
   "cell_type": "code",
   "execution_count": 48,
   "id": "f26a5f7f-6d52-460b-a00f-e3df33052309",
   "metadata": {},
   "outputs": [],
   "source": [
    "selected_columns_full = combined_table_mets_filtered_1.columns[less_than_10 & ~is_next].to_numpy()\n",
    "columns_to_exclude = set(['client_id', 'days_til_next', 'days_since_previous', 'days_til_next_1y', 'days_til_next_2y',\n",
    "                          'observation_id', 'days_in_program',\n",
    "                          'days_since_first_call', 'days_since_first_draw'])\n",
    "selected_columns_full = np.array([x for x in selected_columns_full if x not in columns_to_exclude])"
   ]
  },
  {
   "cell_type": "code",
   "execution_count": 49,
   "id": "577e4989-fc18-49f9-b73b-aba535ed1e5f",
   "metadata": {
    "tags": []
   },
   "outputs": [
    {
     "name": "stdout",
     "output_type": "stream",
     "text": [
      "number of total clinical columns: 70\n"
     ]
    }
   ],
   "source": [
    "selected_chem_bp_cols = [x for x in selected_columns_full if x in chems.columns or x in bp.columns or x in ['age', 'is_m', 'bmi', 'meds_blood_sugar'] or x in weight.columns]\n",
    "\n",
    "print('number of total clinical columns:', len(selected_chem_bp_cols))"
   ]
  },
  {
   "cell_type": "code",
   "execution_count": 50,
   "id": "1781fd75-1843-4a16-ad10-62f9162666b6",
   "metadata": {},
   "outputs": [
    {
     "name": "stdout",
     "output_type": "stream",
     "text": [
      "['A/G RATIO', 'ADIPONECTIN, SERUM', 'ALAT (SGPT)', 'ALBUMIN', 'ALKALINE PHOSPHATASE', 'ARACHIDONIC ACID', 'ASAT (SGOT)', 'BASOPHILS', 'BASOPHILS ABSOLUTE', 'BILIRUBIN, TOTAL', 'BUN/CREAT RATIO', 'CALCIUM', 'CARBON DIOXIDE (CO2)', 'CHLORIDE', 'CHOLESTEROL, TOTAL', 'CREATININE ENZ, SER', 'CRP HIGH SENSITIVITY', 'DHA', 'EOSINOPHILS', 'EOSINOPHILS ABSOLUTE', 'EPA', 'FERRITIN', 'FOLIC ACID, SERUM', 'GFR, MDRD', 'GGT', 'GLOBULIN', 'GLUCOSE', 'GLYCOHEMOGLOBIN A1C', 'HDL CHOL DIRECT', 'HEMATOCRIT', 'HEMOGLOBIN', 'HOMA-IR', 'HOMOCYSTEINE, SERUM', 'IL-6', 'IL-8', 'INSULIN', 'LDL PARTICLE NUMBER', 'LDL SMALL', 'LDL-CHOL CALCULATION', 'LEAD, BLOOD', 'LYMPHOCYTES', 'LYMPHOCYTES ABSOLUTE', 'MCH', 'MCHC', 'MCV', 'MERCURY, BLOOD', 'METHYLMALONIC ACID', 'MONOCYTES', 'MONOCYTES ABSOLUTE', 'OMEGA-3 INDEX', 'OMEGA-6/OMEGA-3 RATIO', 'PLATELET COUNT THOUSAND', 'POTASSIUM', 'PROTEIN, TOTAL SERUM', 'RDW', 'RED CELL COUNT', 'SODIUM', 'TNF-ALPHA', 'TOTAL NEUTROPHILS', 'TOTAL NEUTROPHILS AB', 'TRIGLYCERIDES', 'Triglyceride HDL Ratio', 'UREA NITROGEN', 'URIC ACID', 'VITAMIN D, 25-OH TOT', 'WHITE CELL COUNT', 'ZINC', 'age', 'is_m', 'bmi']\n"
     ]
    }
   ],
   "source": [
    "print(selected_chem_bp_cols)"
   ]
  },
  {
   "cell_type": "code",
   "execution_count": 51,
   "id": "24724e4f-a6fa-4285-8fca-2252f4239a6c",
   "metadata": {},
   "outputs": [],
   "source": [
    "selected_chems_only = [x for x in selected_columns_full if x in chems.columns]\n"
   ]
  },
  {
   "cell_type": "code",
   "execution_count": 52,
   "id": "3c28f2c8-e967-4e11-ab27-807a685800bb",
   "metadata": {},
   "outputs": [
    {
     "name": "stdout",
     "output_type": "stream",
     "text": [
      "number of selected clinical columns: 14\n",
      "['INSULIN', 'GLUCOSE', 'GLYCOHEMOGLOBIN A1C', 'GFR, MDRD', 'ALBUMIN', 'CREATININE ENZ, SER', 'HDL CHOL DIRECT', 'HEMATOCRIT', 'HEMOGLOBIN', 'LDL-CHOL CALCULATION', 'TRIGLYCERIDES', 'age', 'is_m', 'bmi']\n"
     ]
    }
   ],
   "source": [
    "chem_subset_cols = ['INSULIN', 'GLUCOSE', 'GLYCOHEMOGLOBIN A1C', 'GFR, MDRD',\n",
    "                  'ALBUMIN', 'CREATININE ENZ, SER',\n",
    "                  'HDL CHOL DIRECT', 'HEMATOCRIT', 'HEMOGLOBIN', 'LDL-CHOL CALCULATION', 'TRIGLYCERIDES',\n",
    "                  'MEAN_ARTERIAL_BLOOD_PRESSURE', 'PULSE_PRESSURE', 'diastolic', 'systolic',\n",
    "                  'age', 'is_m', 'meds_blood_sugar', 'bmi']\n",
    "chem_subset_cols = [x for x in chem_subset_cols if x in selected_columns_full]\n",
    "print('number of selected clinical columns:', len(chem_subset_cols))\n",
    "print(chem_subset_cols)"
   ]
  },
  {
   "cell_type": "markdown",
   "id": "97ba6622-3d8c-4577-937f-9ca04af93130",
   "metadata": {},
   "source": [
    "Somewhat arbitrarily, we're only including proteins with less than 5 missing values. This is different from clinical variables because of the different distributions of missing-ness; having a more stringent missingness threshold will remove a lot of clinical variables that we want to include, and will also remove too many metabolites."
   ]
  },
  {
   "cell_type": "code",
   "execution_count": 53,
   "id": "a987cc2f-d14b-48bd-8eb0-9d2cf471f22a",
   "metadata": {},
   "outputs": [],
   "source": [
    "less_than_5 = (na_counts < 5)"
   ]
  },
  {
   "cell_type": "code",
   "execution_count": 54,
   "id": "be7d128e-aa4e-4791-8e66-c94a76f5b633",
   "metadata": {},
   "outputs": [
    {
     "name": "stdout",
     "output_type": "stream",
     "text": [
      "number of protein columns: 262\n"
     ]
    }
   ],
   "source": [
    "selected_prot_cols = [x for x in selected_columns_full if x in prots_all.columns and less_than_5[x]]\n",
    "print('number of protein columns:', len(selected_prot_cols))"
   ]
  },
  {
   "cell_type": "code",
   "execution_count": 55,
   "id": "9931c44d-da21-440f-aa7e-9a386822c53a",
   "metadata": {},
   "outputs": [
    {
     "name": "stdout",
     "output_type": "stream",
     "text": [
      "number of metabolite columns: 710\n"
     ]
    }
   ],
   "source": [
    "selected_met_cols = [x for x in selected_columns_full if x in mets_all.columns]\n",
    "print('number of metabolite columns:', len(selected_met_cols))"
   ]
  },
  {
   "cell_type": "code",
   "execution_count": 56,
   "id": "a4835a82-0beb-46c2-ac4d-e55c92c64b91",
   "metadata": {},
   "outputs": [],
   "source": [
    "selected_columns_full = selected_chem_bp_cols + selected_prot_cols + selected_met_cols"
   ]
  },
  {
   "cell_type": "code",
   "execution_count": 57,
   "id": "1e857aa2-ed00-4a58-a79b-8195d461e757",
   "metadata": {},
   "outputs": [
    {
     "name": "stdout",
     "output_type": "stream",
     "text": [
      "number of total columns: 1042\n"
     ]
    }
   ],
   "source": [
    "print('number of total columns:', len(selected_columns_full))"
   ]
  },
  {
   "cell_type": "markdown",
   "id": "099f8eff-1507-4fd0-b0a5-f0fe5977992c",
   "metadata": {},
   "source": [
    "### Remove rows that have NaN values for chems, set metabolites with NaNs to 0\n",
    "\n",
    "try: setting missing metabolites to the median, remove rows with missing chems."
   ]
  },
  {
   "cell_type": "code",
   "execution_count": 58,
   "id": "3347d969-ec0b-4dbe-8075-75dced5f8da0",
   "metadata": {},
   "outputs": [
    {
     "data": {
      "text/plain": [
       "103"
      ]
     },
     "execution_count": 58,
     "metadata": {},
     "output_type": "execute_result"
    }
   ],
   "source": [
    "combined_table_mets_filtered_1['bmi'].isna().sum()"
   ]
  },
  {
   "cell_type": "code",
   "execution_count": 59,
   "id": "9ae92e05-bfa7-4a89-a073-ec93fa139ba3",
   "metadata": {
    "tags": []
   },
   "outputs": [
    {
     "name": "stdout",
     "output_type": "stream",
     "text": [
      "# of samples with nans > 10%: 14\n",
      "# of samples with missing clinical var: 449\n",
      "# of samples with missing protein: 9\n",
      "shape after removing values with missing chems/prots: (1241, 1166)\n"
     ]
    }
   ],
   "source": [
    "chem_has_na = combined_table_mets_filtered_1[selected_chem_bp_cols].isna().sum(1)\n",
    "met_has_na = combined_table_mets_filtered_1[selected_met_cols].isna().sum(1)\n",
    "prot_has_na = combined_table_mets_filtered_1[selected_prot_cols].isna().sum(1)\n",
    "has_na = chem_has_na + met_has_na + prot_has_na\n",
    "\n",
    "nans_above_threshold = (has_na > combined_table_mets_filtered_1.shape[0]*0.1)\n",
    "print('# of samples with nans > 10%:', nans_above_threshold.sum())\n",
    "\n",
    "print('# of samples with missing clinical var:', sum(chem_has_na > 0))\n",
    "\n",
    "print('# of samples with missing protein:', sum(prot_has_na > 0))\n",
    "\n",
    "# only remove the chem and prot NaN rows, set the met NaN rows to 0\n",
    "combined_table_mets_filtered_2 = combined_table_mets_filtered_1[(~nans_above_threshold) & (chem_has_na == 0) & (prot_has_na == 0)]\n",
    "\n",
    "combined_table_mets_set_medians = combined_table_mets_filtered_2.copy()\n",
    "\n",
    "\n",
    "print('shape after removing values with missing chems/prots:', combined_table_mets_filtered_2.shape)"
   ]
  },
  {
   "cell_type": "markdown",
   "id": "f2972f43-cbcc-4dd8-8e08-6fdee322e48d",
   "metadata": {},
   "source": [
    "### Filter by time interval between samples"
   ]
  },
  {
   "cell_type": "code",
   "execution_count": 60,
   "id": "7c6d600a-fd15-4b55-8b7b-ca033562bc40",
   "metadata": {},
   "outputs": [
    {
     "name": "stdout",
     "output_type": "stream",
     "text": [
      "(1149, 1166)\n"
     ]
    }
   ],
   "source": [
    "combined_table_mets_filtered_times = combined_table_mets_filtered_2[\\\n",
    "                                                                (combined_table_mets_filtered_2.days_til_next < 270) \\\n",
    "                                                                & (combined_table_mets_filtered_2.days_til_next > 90)]\n",
    "print(combined_table_mets_filtered_times.shape)"
   ]
  },
  {
   "cell_type": "code",
   "execution_count": 61,
   "id": "06d7c7d6-bd7e-4b41-9c77-2189a5d50c88",
   "metadata": {
    "tags": []
   },
   "outputs": [],
   "source": [
    "combined_table_mets_set_zeros = combined_table_mets_filtered_times.copy()\n",
    "combined_table_mets_set_zeros[selected_met_cols] = combined_table_mets_set_zeros[selected_met_cols].fillna(0)\n",
    "combined_table_mets_set_zeros[selected_prot_cols] = combined_table_mets_set_zeros[selected_prot_cols].fillna(0)\n"
   ]
  },
  {
   "cell_type": "markdown",
   "id": "3596c808-4b83-4aff-9fcc-0cd194a95431",
   "metadata": {
    "tags": []
   },
   "source": [
    "### Imputation for metabolites using missforest"
   ]
  },
  {
   "cell_type": "code",
   "execution_count": 62,
   "id": "40df6ed3-5ec5-4920-bee1-eecd6cb2cd3b",
   "metadata": {
    "scrolled": true,
    "tags": []
   },
   "outputs": [
    {
     "name": "stdout",
     "output_type": "stream",
     "text": [
      "Iteration: 0\n",
      "Iteration: 1\n",
      "Iteration: 2\n",
      "Iteration: 3\n",
      "Iteration: 4\n"
     ]
    }
   ],
   "source": [
    "import os\n",
    "from missingpy import MissForest\n",
    "import warnings\n",
    "warnings.filterwarnings(\"ignore\")\n",
    "\n",
    "imputer = MissForest(max_iter=5, decreasing=False, missing_values=np.nan,\n",
    "                     copy=True, criterion=('squared_error', 'gini'),\n",
    "                     max_depth=15, min_samples_split=2, min_samples_leaf=1,\n",
    "                     min_weight_fraction_leaf=0.0,\n",
    "                     max_leaf_nodes=None, min_impurity_decrease=0.0,\n",
    "                     bootstrap=True, oob_score=False, n_jobs=-1,\n",
    "                     verbose=0, warm_start=True, class_weight=None,\n",
    "                     max_features=1)\n",
    "\n",
    "data_selected_cols = combined_table_mets_filtered_times[selected_met_cols]\n",
    "\n",
    "imputed = imputer.fit_transform(data_selected_cols)"
   ]
  },
  {
   "cell_type": "code",
   "execution_count": 63,
   "id": "a42ac186-afcf-4e65-bef4-2a9ad434dd5e",
   "metadata": {},
   "outputs": [],
   "source": [
    "combined_table_mets_imputed = combined_table_mets_filtered_times.copy()"
   ]
  },
  {
   "cell_type": "code",
   "execution_count": 64,
   "id": "17ee0865-110c-4946-821d-8e1bbe6b180f",
   "metadata": {},
   "outputs": [],
   "source": [
    "#if not os.path.exists('clinical_multiomics_combined_data_imputed.csv'):\n",
    "data_selected_cols[:] = imputed\n",
    "#else:\n",
    "#    data_selected_cols = pd.read_csv('clinical_multiomics_combined_data_imputed.csv')\n",
    "combined_table_mets_imputed[selected_met_cols] = data_selected_cols.values"
   ]
  },
  {
   "cell_type": "code",
   "execution_count": 65,
   "id": "45d64256-fafe-4006-9960-88e2ac50cede",
   "metadata": {},
   "outputs": [
    {
     "data": {
      "text/plain": [
       "(1149, 1166)"
      ]
     },
     "execution_count": 65,
     "metadata": {},
     "output_type": "execute_result"
    }
   ],
   "source": [
    "combined_table_mets_imputed.shape"
   ]
  },
  {
   "cell_type": "markdown",
   "id": "3a8b0581-1fc1-49f5-a026-4cde7797120e",
   "metadata": {},
   "source": [
    "### Filter rows by output outliers\n",
    "\n",
    "Thresholds are somewhat arbitrary, based on inspection"
   ]
  },
  {
   "cell_type": "code",
   "execution_count": 66,
   "id": "2ae29e1f-313d-4563-8bf1-e7277151755d",
   "metadata": {},
   "outputs": [],
   "source": [
    "# TODO: remove outliers for next_hba1c, glucose, gfr\n",
    "row_has_na = combined_table_mets_set_zeros[selected_met_cols].isna().any(1)\n",
    "items_to_exclude = {'HbA1C', 'GLUCOSE', 'GFR', 'INSULIN'}\n",
    "upper_bounds = {'HbA1C': 12, 'GLUCOSE': 200, 'GFR': 200, 'INSULIN': 60}\n",
    "lower_bounds = {'HbA1C': 0, 'GLUCOSE': 0, 'GFR': 0, 'INSULIN': 0}\n",
    "\n",
    "for k in items_to_exclude:\n",
    "    item_data = combined_table_mets_imputed[chems_to_column[k]]\n",
    "    mean = np.mean(item_data)\n",
    "    std = np.std(item_data)\n",
    "    row_has_na = row_has_na | (item_data > upper_bounds[k]) | (item_data < lower_bounds[k])\n",
    "    item_data = combined_table_mets_set_medians['next_' + k]\n",
    "    mean = np.mean(item_data)\n",
    "    std = np.std(item_data)\n",
    "    row_has_na = row_has_na | (item_data > upper_bounds[k]) | (item_data < lower_bounds[k])\n",
    "\n",
    "combined_table_imputed_outliers = combined_table_mets_imputed[~row_has_na]\n",
    "combined_table_mets_zeros_times_outliers = combined_table_mets_set_zeros[~row_has_na]"
   ]
  },
  {
   "cell_type": "code",
   "execution_count": 67,
   "id": "a000d452-777f-4a78-a0bd-baecf38f7216",
   "metadata": {},
   "outputs": [
    {
     "data": {
      "text/plain": [
       "(1131, 1166)"
      ]
     },
     "execution_count": 67,
     "metadata": {},
     "output_type": "execute_result"
    }
   ],
   "source": [
    "combined_table_imputed_outliers.shape"
   ]
  },
  {
   "cell_type": "markdown",
   "id": "e79ecebd-a435-4478-b2f4-920744cc3bd8",
   "metadata": {},
   "source": [
    "### Create data arrays for training/stats"
   ]
  },
  {
   "cell_type": "code",
   "execution_count": 68,
   "id": "9d97c8e0-318a-45fd-aa1b-c3d1b85f37a5",
   "metadata": {},
   "outputs": [],
   "source": [
    "#  try taking only the first patient?\n",
    "first_items = []\n",
    "prev_client = None\n",
    "for c in combined_table_imputed_outliers.public_client_id:\n",
    "    if c == prev_client:\n",
    "        first_items.append(False)\n",
    "    else:\n",
    "        prev_client = c\n",
    "        first_items.append(True)\n",
    "first_items = np.array(first_items)\n",
    "\n",
    "combined_table_imputed_outliers = combined_table_imputed_outliers[first_items]\n",
    "combined_table_mets_zeros_times_outliers = combined_table_mets_zeros_times_outliers[first_items]"
   ]
  },
  {
   "cell_type": "code",
   "execution_count": 69,
   "id": "c0988706-dd72-426a-b7e8-f11f7187de3c",
   "metadata": {},
   "outputs": [
    {
     "name": "stdout",
     "output_type": "stream",
     "text": [
      "(1131, 1166)\n"
     ]
    }
   ],
   "source": [
    "print(combined_table_imputed_outliers.shape)"
   ]
  },
  {
   "cell_type": "markdown",
   "id": "a31daaa6-d64c-4bcc-b7f6-6aad9a353e1a",
   "metadata": {},
   "source": [
    "#### Convert deltas to discrete values for classification"
   ]
  },
  {
   "cell_type": "code",
   "execution_count": 84,
   "id": "2198cbe9-efd7-4f26-9d3e-9493d95b8d8c",
   "metadata": {},
   "outputs": [],
   "source": [
    "for key, val in chems_to_column.items():\n",
    "    if key != 'GFR':\n",
    "        pos = (combined_table_imputed_outliers['d_'+key] >= combined_table_imputed_outliers[val]*0.05)\n",
    "        neg = (combined_table_imputed_outliers['d_'+key] < combined_table_imputed_outliers[val]*0.05)\n",
    "    else:\n",
    "        pos = (combined_table_imputed_outliers['d_'+key] <= combined_table_imputed_outliers[val]*-0.05)\n",
    "        neg = (combined_table_imputed_outliers['d_'+key] > combined_table_imputed_outliers[val]*-0.05)\n",
    "    combined_table_imputed_outliers['d_' + key + '_class'] = np.zeros(pos.shape) + pos\n",
    "    combined_table_imputed_outliers['d_' + key + '_class'][combined_table_imputed_outliers['d_'+key].isna()] = pd.NA"
   ]
  },
  {
   "cell_type": "code",
   "execution_count": 85,
   "id": "5abb1185-d994-4b18-9adb-768fc9b34a02",
   "metadata": {},
   "outputs": [],
   "source": [
    "for key, val in chems_to_column.items():\n",
    "    if key != 'GFR':\n",
    "        pos = (combined_table_imputed_outliers['d_1y_'+key] >= combined_table_imputed_outliers[val]*0.05)\n",
    "        neg = (combined_table_imputed_outliers['d_1y_'+key] < combined_table_imputed_outliers[val]*0.05)\n",
    "    else:\n",
    "        pos = (combined_table_imputed_outliers['d_1y_'+key] <= combined_table_imputed_outliers[val]*-0.05)\n",
    "        neg = (combined_table_imputed_outliers['d_1y_'+key] > combined_table_imputed_outliers[val]*-0.05)\n",
    "    combined_table_imputed_outliers['d_1y_' + key + '_class'] = np.zeros(pos.shape) + pos\n",
    "    combined_table_imputed_outliers['d_1y_' + key + '_class'][combined_table_imputed_outliers['d_1y_'+key].isna()] = pd.NA"
   ]
  },
  {
   "cell_type": "markdown",
   "id": "2973a805-35d4-4b18-883d-5c2ca75b00f8",
   "metadata": {},
   "source": [
    "## Saving table, saving variable lists"
   ]
  },
  {
   "cell_type": "code",
   "execution_count": 86,
   "id": "75e76151-6117-473a-bc49-8c5fbe5170f6",
   "metadata": {},
   "outputs": [
    {
     "name": "stdout",
     "output_type": "stream",
     "text": [
      "mkdir: cannot create directory ‘results_2023_10_18’: File exists\n"
     ]
    }
   ],
   "source": [
    "!mkdir results_2023_10_18"
   ]
  },
  {
   "cell_type": "code",
   "execution_count": 87,
   "id": "0388e93f-0439-48ce-bd5c-23e364293da7",
   "metadata": {},
   "outputs": [],
   "source": [
    "combined_table_imputed_outliers.to_csv('results_2023_10_18/combined_data_table.csv', index=None)"
   ]
  },
  {
   "cell_type": "code",
   "execution_count": 88,
   "id": "650b474c-5d6b-41e1-88fb-2d216ab78b9a",
   "metadata": {},
   "outputs": [],
   "source": [
    "# save lists of chems, prots, mets\n",
    "np.savetxt('results_2023_10_18/selected_columns_full.txt', selected_columns_full, fmt='%s')\n",
    "np.savetxt('results_2023_10_18/chem_subset_cols.txt', chem_subset_cols, fmt='%s')\n",
    "np.savetxt('results_2023_10_18/selected_chem_bp_cols.txt', selected_chem_bp_cols, fmt='%s')\n",
    "np.savetxt('results_2023_10_18/selected_prot_cols.txt', selected_prot_cols, fmt='%s')\n",
    "np.savetxt('results_2023_10_18/selected_met_cols.txt', selected_met_cols, fmt='%s')\n"
   ]
  },
  {
   "cell_type": "code",
   "execution_count": null,
   "id": "2c300e19-8f42-4c0b-be63-e60bde9e5078",
   "metadata": {},
   "outputs": [],
   "source": []
  },
  {
   "cell_type": "markdown",
   "id": "2c8800de-58cb-4989-94ed-6d268d5c8e63",
   "metadata": {},
   "source": [
    "## Aggregate data statistics"
   ]
  },
  {
   "cell_type": "code",
   "execution_count": 89,
   "id": "9ea5da1e-c75a-4e05-95d3-7af872b22f43",
   "metadata": {},
   "outputs": [
    {
     "data": {
      "text/html": [
       "<style type=\"text/css\">\n",
       "</style>\n",
       "<table id=\"T_c3f02\">\n",
       "  <thead>\n",
       "    <tr>\n",
       "      <th class=\"blank level0\" >&nbsp;</th>\n",
       "      <th id=\"T_c3f02_level0_col0\" class=\"col_heading level0 col0\" >count</th>\n",
       "      <th id=\"T_c3f02_level0_col1\" class=\"col_heading level0 col1\" >min</th>\n",
       "      <th id=\"T_c3f02_level0_col2\" class=\"col_heading level0 col2\" >mean</th>\n",
       "      <th id=\"T_c3f02_level0_col3\" class=\"col_heading level0 col3\" >median</th>\n",
       "      <th id=\"T_c3f02_level0_col4\" class=\"col_heading level0 col4\" >max</th>\n",
       "      <th id=\"T_c3f02_level0_col5\" class=\"col_heading level0 col5\" >std</th>\n",
       "    </tr>\n",
       "  </thead>\n",
       "  <tbody>\n",
       "    <tr>\n",
       "      <th id=\"T_c3f02_level0_row0\" class=\"row_heading level0 row0\" >age</th>\n",
       "      <td id=\"T_c3f02_row0_col0\" class=\"data row0 col0\" >1131.00</td>\n",
       "      <td id=\"T_c3f02_row0_col1\" class=\"data row0 col1\" >18.00</td>\n",
       "      <td id=\"T_c3f02_row0_col2\" class=\"data row0 col2\" >49.53</td>\n",
       "      <td id=\"T_c3f02_row0_col3\" class=\"data row0 col3\" >49.00</td>\n",
       "      <td id=\"T_c3f02_row0_col4\" class=\"data row0 col4\" >87.00</td>\n",
       "      <td id=\"T_c3f02_row0_col5\" class=\"data row0 col5\" >11.29</td>\n",
       "    </tr>\n",
       "    <tr>\n",
       "      <th id=\"T_c3f02_level0_row1\" class=\"row_heading level0 row1\" >bmi</th>\n",
       "      <td id=\"T_c3f02_row1_col0\" class=\"data row1 col0\" >1131.00</td>\n",
       "      <td id=\"T_c3f02_row1_col1\" class=\"data row1 col1\" >17.74</td>\n",
       "      <td id=\"T_c3f02_row1_col2\" class=\"data row1 col2\" >27.63</td>\n",
       "      <td id=\"T_c3f02_row1_col3\" class=\"data row1 col3\" >26.15</td>\n",
       "      <td id=\"T_c3f02_row1_col4\" class=\"data row1 col4\" >53.35</td>\n",
       "      <td id=\"T_c3f02_row1_col5\" class=\"data row1 col5\" >6.04</td>\n",
       "    </tr>\n",
       "    <tr>\n",
       "      <th id=\"T_c3f02_level0_row2\" class=\"row_heading level0 row2\" >GLYCOHEMOGLOBIN A1C</th>\n",
       "      <td id=\"T_c3f02_row2_col0\" class=\"data row2 col0\" >1131.00</td>\n",
       "      <td id=\"T_c3f02_row2_col1\" class=\"data row2 col1\" >3.60</td>\n",
       "      <td id=\"T_c3f02_row2_col2\" class=\"data row2 col2\" >5.51</td>\n",
       "      <td id=\"T_c3f02_row2_col3\" class=\"data row2 col3\" >5.50</td>\n",
       "      <td id=\"T_c3f02_row2_col4\" class=\"data row2 col4\" >8.30</td>\n",
       "      <td id=\"T_c3f02_row2_col5\" class=\"data row2 col5\" >0.43</td>\n",
       "    </tr>\n",
       "    <tr>\n",
       "      <th id=\"T_c3f02_level0_row3\" class=\"row_heading level0 row3\" >GLUCOSE</th>\n",
       "      <td id=\"T_c3f02_row3_col0\" class=\"data row3 col0\" >1131.00</td>\n",
       "      <td id=\"T_c3f02_row3_col1\" class=\"data row3 col1\" >70.00</td>\n",
       "      <td id=\"T_c3f02_row3_col2\" class=\"data row3 col2\" >93.24</td>\n",
       "      <td id=\"T_c3f02_row3_col3\" class=\"data row3 col3\" >91.00</td>\n",
       "      <td id=\"T_c3f02_row3_col4\" class=\"data row3 col4\" >199.00</td>\n",
       "      <td id=\"T_c3f02_row3_col5\" class=\"data row3 col5\" >12.18</td>\n",
       "    </tr>\n",
       "    <tr>\n",
       "      <th id=\"T_c3f02_level0_row4\" class=\"row_heading level0 row4\" >GFR, MDRD</th>\n",
       "      <td id=\"T_c3f02_row4_col0\" class=\"data row4 col0\" >1131.00</td>\n",
       "      <td id=\"T_c3f02_row4_col1\" class=\"data row4 col1\" >41.00</td>\n",
       "      <td id=\"T_c3f02_row4_col2\" class=\"data row4 col2\" >90.17</td>\n",
       "      <td id=\"T_c3f02_row4_col3\" class=\"data row4 col3\" >90.00</td>\n",
       "      <td id=\"T_c3f02_row4_col4\" class=\"data row4 col4\" >131.00</td>\n",
       "      <td id=\"T_c3f02_row4_col5\" class=\"data row4 col5\" >15.17</td>\n",
       "    </tr>\n",
       "    <tr>\n",
       "      <th id=\"T_c3f02_level0_row5\" class=\"row_heading level0 row5\" >INSULIN</th>\n",
       "      <td id=\"T_c3f02_row5_col0\" class=\"data row5 col0\" >1131.00</td>\n",
       "      <td id=\"T_c3f02_row5_col1\" class=\"data row5 col1\" >1.40</td>\n",
       "      <td id=\"T_c3f02_row5_col2\" class=\"data row5 col2\" >10.67</td>\n",
       "      <td id=\"T_c3f02_row5_col3\" class=\"data row5 col3\" >8.90</td>\n",
       "      <td id=\"T_c3f02_row5_col4\" class=\"data row5 col4\" >55.10</td>\n",
       "      <td id=\"T_c3f02_row5_col5\" class=\"data row5 col5\" >7.34</td>\n",
       "    </tr>\n",
       "    <tr>\n",
       "      <th id=\"T_c3f02_level0_row6\" class=\"row_heading level0 row6\" >HOMA-IR</th>\n",
       "      <td id=\"T_c3f02_row6_col0\" class=\"data row6 col0\" >1131.00</td>\n",
       "      <td id=\"T_c3f02_row6_col1\" class=\"data row6 col1\" >0.25</td>\n",
       "      <td id=\"T_c3f02_row6_col2\" class=\"data row6 col2\" >2.56</td>\n",
       "      <td id=\"T_c3f02_row6_col3\" class=\"data row6 col3\" >1.98</td>\n",
       "      <td id=\"T_c3f02_row6_col4\" class=\"data row6 col4\" >20.34</td>\n",
       "      <td id=\"T_c3f02_row6_col5\" class=\"data row6 col5\" >2.16</td>\n",
       "    </tr>\n",
       "  </tbody>\n",
       "</table>\n"
      ],
      "text/plain": [
       "<pandas.io.formats.style.Styler at 0x7f0cd76bc5e0>"
      ]
     },
     "execution_count": 89,
     "metadata": {},
     "output_type": "execute_result"
    }
   ],
   "source": [
    "combined_table_imputed_outliers.agg({'age': ['count', 'min', 'mean', 'median', 'max', 'std'],\n",
    "                    'bmi': ['count', 'min', 'mean', 'median', 'max', 'std'],\n",
    "                    'GLYCOHEMOGLOBIN A1C': ['count', 'min', 'mean', 'median', 'max', 'std'],\n",
    "                    'GLUCOSE': ['count', 'min', 'mean', 'median', 'max', 'std'],\n",
    "                    'GFR, MDRD': ['count', 'min', 'mean', 'median', 'max', 'std'],\n",
    "                    'INSULIN': ['count', 'min', 'mean', 'median', 'max', 'std'],\n",
    "                    'HOMA-IR': ['count', 'min', 'mean', 'median', 'max', 'std'],}).T.style.format(precision=2)"
   ]
  },
  {
   "cell_type": "code",
   "execution_count": 90,
   "id": "60a897cb-415d-4281-96f8-209db2173514",
   "metadata": {},
   "outputs": [
    {
     "data": {
      "text/html": [
       "<style type=\"text/css\">\n",
       "</style>\n",
       "<table id=\"T_9204c\">\n",
       "  <thead>\n",
       "    <tr>\n",
       "      <th class=\"blank level0\" >&nbsp;</th>\n",
       "      <th id=\"T_9204c_level0_col0\" class=\"col_heading level0 col0\" >count</th>\n",
       "      <th id=\"T_9204c_level0_col1\" class=\"col_heading level0 col1\" >min</th>\n",
       "      <th id=\"T_9204c_level0_col2\" class=\"col_heading level0 col2\" >mean</th>\n",
       "      <th id=\"T_9204c_level0_col3\" class=\"col_heading level0 col3\" >median</th>\n",
       "      <th id=\"T_9204c_level0_col4\" class=\"col_heading level0 col4\" >max</th>\n",
       "      <th id=\"T_9204c_level0_col5\" class=\"col_heading level0 col5\" >std</th>\n",
       "    </tr>\n",
       "  </thead>\n",
       "  <tbody>\n",
       "    <tr>\n",
       "      <th id=\"T_9204c_level0_row0\" class=\"row_heading level0 row0\" >d_HbA1C</th>\n",
       "      <td id=\"T_9204c_row0_col0\" class=\"data row0 col0\" >1131.00</td>\n",
       "      <td id=\"T_9204c_row0_col1\" class=\"data row0 col1\" >-1.50</td>\n",
       "      <td id=\"T_9204c_row0_col2\" class=\"data row0 col2\" >-0.05</td>\n",
       "      <td id=\"T_9204c_row0_col3\" class=\"data row0 col3\" >-0.10</td>\n",
       "      <td id=\"T_9204c_row0_col4\" class=\"data row0 col4\" >1.40</td>\n",
       "      <td id=\"T_9204c_row0_col5\" class=\"data row0 col5\" >0.29</td>\n",
       "    </tr>\n",
       "    <tr>\n",
       "      <th id=\"T_9204c_level0_row1\" class=\"row_heading level0 row1\" >d_GLUCOSE</th>\n",
       "      <td id=\"T_9204c_row1_col0\" class=\"data row1 col0\" >1131.00</td>\n",
       "      <td id=\"T_9204c_row1_col1\" class=\"data row1 col1\" >-49.00</td>\n",
       "      <td id=\"T_9204c_row1_col2\" class=\"data row1 col2\" >-0.48</td>\n",
       "      <td id=\"T_9204c_row1_col3\" class=\"data row1 col3\" >0.00</td>\n",
       "      <td id=\"T_9204c_row1_col4\" class=\"data row1 col4\" >39.00</td>\n",
       "      <td id=\"T_9204c_row1_col5\" class=\"data row1 col5\" >7.78</td>\n",
       "    </tr>\n",
       "    <tr>\n",
       "      <th id=\"T_9204c_level0_row2\" class=\"row_heading level0 row2\" >d_GFR</th>\n",
       "      <td id=\"T_9204c_row2_col0\" class=\"data row2 col0\" >1131.00</td>\n",
       "      <td id=\"T_9204c_row2_col1\" class=\"data row2 col1\" >-30.00</td>\n",
       "      <td id=\"T_9204c_row2_col2\" class=\"data row2 col2\" >1.04</td>\n",
       "      <td id=\"T_9204c_row2_col3\" class=\"data row2 col3\" >0.00</td>\n",
       "      <td id=\"T_9204c_row2_col4\" class=\"data row2 col4\" >45.00</td>\n",
       "      <td id=\"T_9204c_row2_col5\" class=\"data row2 col5\" >9.44</td>\n",
       "    </tr>\n",
       "    <tr>\n",
       "      <th id=\"T_9204c_level0_row3\" class=\"row_heading level0 row3\" >d_INSULIN</th>\n",
       "      <td id=\"T_9204c_row3_col0\" class=\"data row3 col0\" >1131.00</td>\n",
       "      <td id=\"T_9204c_row3_col1\" class=\"data row3 col1\" >-31.50</td>\n",
       "      <td id=\"T_9204c_row3_col2\" class=\"data row3 col2\" >-0.89</td>\n",
       "      <td id=\"T_9204c_row3_col3\" class=\"data row3 col3\" >-0.40</td>\n",
       "      <td id=\"T_9204c_row3_col4\" class=\"data row3 col4\" >22.70</td>\n",
       "      <td id=\"T_9204c_row3_col5\" class=\"data row3 col5\" >4.97</td>\n",
       "    </tr>\n",
       "    <tr>\n",
       "      <th id=\"T_9204c_level0_row4\" class=\"row_heading level0 row4\" >d_HOMA-IR</th>\n",
       "      <td id=\"T_9204c_row4_col0\" class=\"data row4 col0\" >1131.00</td>\n",
       "      <td id=\"T_9204c_row4_col1\" class=\"data row4 col1\" >-11.09</td>\n",
       "      <td id=\"T_9204c_row4_col2\" class=\"data row4 col2\" >-0.24</td>\n",
       "      <td id=\"T_9204c_row4_col3\" class=\"data row4 col3\" >-0.12</td>\n",
       "      <td id=\"T_9204c_row4_col4\" class=\"data row4 col4\" >7.09</td>\n",
       "      <td id=\"T_9204c_row4_col5\" class=\"data row4 col5\" >1.43</td>\n",
       "    </tr>\n",
       "  </tbody>\n",
       "</table>\n"
      ],
      "text/plain": [
       "<pandas.io.formats.style.Styler at 0x7f0cd76bc550>"
      ]
     },
     "execution_count": 90,
     "metadata": {},
     "output_type": "execute_result"
    }
   ],
   "source": [
    "combined_table_imputed_outliers.agg({'d_HbA1C': ['count', 'min', 'mean', 'median', 'max', 'std'],\n",
    "                    'd_GLUCOSE': ['count', 'min', 'mean', 'median', 'max', 'std'],\n",
    "                    'd_GFR': ['count', 'min', 'mean', 'median', 'max', 'std'],\n",
    "                    'd_INSULIN': ['count', 'min', 'mean', 'median', 'max', 'std'],\n",
    "                    'd_HOMA-IR': ['count', 'min', 'mean', 'median', 'max', 'std'],}).T.style.format(precision=2)"
   ]
  },
  {
   "cell_type": "code",
   "execution_count": 91,
   "id": "017d28bd-a693-4dbc-ba7c-7ee9cab6f08c",
   "metadata": {},
   "outputs": [
    {
     "data": {
      "text/html": [
       "<style type=\"text/css\">\n",
       "</style>\n",
       "<table id=\"T_655d2\">\n",
       "  <thead>\n",
       "    <tr>\n",
       "      <th class=\"blank level0\" >&nbsp;</th>\n",
       "      <th id=\"T_655d2_level0_col0\" class=\"col_heading level0 col0\" >count</th>\n",
       "      <th id=\"T_655d2_level0_col1\" class=\"col_heading level0 col1\" >min</th>\n",
       "      <th id=\"T_655d2_level0_col2\" class=\"col_heading level0 col2\" >mean</th>\n",
       "      <th id=\"T_655d2_level0_col3\" class=\"col_heading level0 col3\" >median</th>\n",
       "      <th id=\"T_655d2_level0_col4\" class=\"col_heading level0 col4\" >max</th>\n",
       "      <th id=\"T_655d2_level0_col5\" class=\"col_heading level0 col5\" >std</th>\n",
       "    </tr>\n",
       "  </thead>\n",
       "  <tbody>\n",
       "    <tr>\n",
       "      <th id=\"T_655d2_level0_row0\" class=\"row_heading level0 row0\" >d_1y_HbA1C</th>\n",
       "      <td id=\"T_655d2_row0_col0\" class=\"data row0 col0\" >639.00</td>\n",
       "      <td id=\"T_655d2_row0_col1\" class=\"data row0 col1\" >-1.90</td>\n",
       "      <td id=\"T_655d2_row0_col2\" class=\"data row0 col2\" >-0.11</td>\n",
       "      <td id=\"T_655d2_row0_col3\" class=\"data row0 col3\" >-0.10</td>\n",
       "      <td id=\"T_655d2_row0_col4\" class=\"data row0 col4\" >1.00</td>\n",
       "      <td id=\"T_655d2_row0_col5\" class=\"data row0 col5\" >0.31</td>\n",
       "    </tr>\n",
       "    <tr>\n",
       "      <th id=\"T_655d2_level0_row1\" class=\"row_heading level0 row1\" >d_1y_GLUCOSE</th>\n",
       "      <td id=\"T_655d2_row1_col0\" class=\"data row1 col0\" >639.00</td>\n",
       "      <td id=\"T_655d2_row1_col1\" class=\"data row1 col1\" >-57.00</td>\n",
       "      <td id=\"T_655d2_row1_col2\" class=\"data row1 col2\" >-0.18</td>\n",
       "      <td id=\"T_655d2_row1_col3\" class=\"data row1 col3\" >1.00</td>\n",
       "      <td id=\"T_655d2_row1_col4\" class=\"data row1 col4\" >51.00</td>\n",
       "      <td id=\"T_655d2_row1_col5\" class=\"data row1 col5\" >8.89</td>\n",
       "    </tr>\n",
       "    <tr>\n",
       "      <th id=\"T_655d2_level0_row2\" class=\"row_heading level0 row2\" >d_1y_GFR</th>\n",
       "      <td id=\"T_655d2_row2_col0\" class=\"data row2 col0\" >639.00</td>\n",
       "      <td id=\"T_655d2_row2_col1\" class=\"data row2 col1\" >-28.00</td>\n",
       "      <td id=\"T_655d2_row2_col2\" class=\"data row2 col2\" >-0.05</td>\n",
       "      <td id=\"T_655d2_row2_col3\" class=\"data row2 col3\" >0.00</td>\n",
       "      <td id=\"T_655d2_row2_col4\" class=\"data row2 col4\" >53.00</td>\n",
       "      <td id=\"T_655d2_row2_col5\" class=\"data row2 col5\" >10.44</td>\n",
       "    </tr>\n",
       "    <tr>\n",
       "      <th id=\"T_655d2_level0_row3\" class=\"row_heading level0 row3\" >d_1y_INSULIN</th>\n",
       "      <td id=\"T_655d2_row3_col0\" class=\"data row3 col0\" >639.00</td>\n",
       "      <td id=\"T_655d2_row3_col1\" class=\"data row3 col1\" >-33.20</td>\n",
       "      <td id=\"T_655d2_row3_col2\" class=\"data row3 col2\" >-0.98</td>\n",
       "      <td id=\"T_655d2_row3_col3\" class=\"data row3 col3\" >-0.60</td>\n",
       "      <td id=\"T_655d2_row3_col4\" class=\"data row3 col4\" >54.40</td>\n",
       "      <td id=\"T_655d2_row3_col5\" class=\"data row3 col5\" >5.41</td>\n",
       "    </tr>\n",
       "    <tr>\n",
       "      <th id=\"T_655d2_level0_row4\" class=\"row_heading level0 row4\" >d_1y_HOMA-IR</th>\n",
       "      <td id=\"T_655d2_row4_col0\" class=\"data row4 col0\" >639.00</td>\n",
       "      <td id=\"T_655d2_row4_col1\" class=\"data row4 col1\" >-12.90</td>\n",
       "      <td id=\"T_655d2_row4_col2\" class=\"data row4 col2\" >-0.25</td>\n",
       "      <td id=\"T_655d2_row4_col3\" class=\"data row4 col3\" >-0.11</td>\n",
       "      <td id=\"T_655d2_row4_col4\" class=\"data row4 col4\" >23.29</td>\n",
       "      <td id=\"T_655d2_row4_col5\" class=\"data row4 col5\" >1.80</td>\n",
       "    </tr>\n",
       "  </tbody>\n",
       "</table>\n"
      ],
      "text/plain": [
       "<pandas.io.formats.style.Styler at 0x7f0cda0be2c0>"
      ]
     },
     "execution_count": 91,
     "metadata": {},
     "output_type": "execute_result"
    }
   ],
   "source": [
    "combined_table_imputed_outliers.agg({'d_1y_HbA1C': ['count', 'min', 'mean', 'median', 'max', 'std'],\n",
    "                    'd_1y_GLUCOSE': ['count', 'min', 'mean', 'median', 'max', 'std'],\n",
    "                    'd_1y_GFR': ['count', 'min', 'mean', 'median', 'max', 'std'],\n",
    "                    'd_1y_INSULIN': ['count', 'min', 'mean', 'median', 'max', 'std'],\n",
    "                    'd_1y_HOMA-IR': ['count', 'min', 'mean', 'median', 'max', 'std'],}).T.style.format(precision=2)"
   ]
  },
  {
   "cell_type": "code",
   "execution_count": null,
   "id": "accb9ff3-b65f-4716-9a55-834f344662e3",
   "metadata": {},
   "outputs": [],
   "source": []
  }
 ],
 "metadata": {
  "kernelspec": {
   "display_name": "Python 3 (ipykernel)",
   "language": "python",
   "name": "python3"
  },
  "language_info": {
   "codemirror_mode": {
    "name": "ipython",
    "version": 3
   },
   "file_extension": ".py",
   "mimetype": "text/x-python",
   "name": "python",
   "nbconvert_exporter": "python",
   "pygments_lexer": "ipython3",
   "version": "3.10.6"
  },
  "widgets": {
   "application/vnd.jupyter.widget-state+json": {
    "state": {},
    "version_major": 2,
    "version_minor": 0
   }
  }
 },
 "nbformat": 4,
 "nbformat_minor": 5
}
